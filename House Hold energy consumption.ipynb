{
 "cells": [
  {
   "cell_type": "code",
   "execution_count": 1,
   "id": "9f249df1",
   "metadata": {},
   "outputs": [],
   "source": [
    "import numpy as np # linear algebra\n",
    "import pandas as pd # data processing, CSV file I/O (e.g. pd.read_csv)\n",
    "import matplotlib.pyplot as plt\n",
    "import seaborn as sns\n",
    "from sklearn.metrics import r2_score\n",
    "import sklearn \n",
    "from sklearn.metrics import classification_report, roc_curve, mean_squared_error, mean_absolute_error\n",
    "import datetime as dt\n",
    "from sklearn.metrics import mean_absolute_percentage_error\n",
    "\n",
    "from datetime import datetime\n",
    "import plotly.express as px\n",
    "\n",
    "import warnings \n",
    "warnings.simplefilter('ignore')\n",
    "%matplotlib Inline\n"
   ]
  },
  {
   "cell_type": "code",
   "execution_count": 2,
   "id": "834f7716",
   "metadata": {},
   "outputs": [],
   "source": [
    "df = pd.read_csv(\"electricity_bill_dataset.csv\")"
   ]
  },
  {
   "cell_type": "code",
   "execution_count": 3,
   "id": "f9707f34",
   "metadata": {},
   "outputs": [
    {
     "data": {
      "text/html": [
       "<div>\n",
       "<style scoped>\n",
       "    .dataframe tbody tr th:only-of-type {\n",
       "        vertical-align: middle;\n",
       "    }\n",
       "\n",
       "    .dataframe tbody tr th {\n",
       "        vertical-align: top;\n",
       "    }\n",
       "\n",
       "    .dataframe thead th {\n",
       "        text-align: right;\n",
       "    }\n",
       "</style>\n",
       "<table border=\"1\" class=\"dataframe\">\n",
       "  <thead>\n",
       "    <tr style=\"text-align: right;\">\n",
       "      <th></th>\n",
       "      <th>Fan</th>\n",
       "      <th>Refrigerator</th>\n",
       "      <th>AirConditioner</th>\n",
       "      <th>Television</th>\n",
       "      <th>Monitor</th>\n",
       "      <th>MotorPump</th>\n",
       "      <th>Month</th>\n",
       "      <th>City</th>\n",
       "      <th>Company</th>\n",
       "      <th>MonthlyHours</th>\n",
       "      <th>TariffRate</th>\n",
       "      <th>ElectricityBill</th>\n",
       "    </tr>\n",
       "  </thead>\n",
       "  <tbody>\n",
       "    <tr>\n",
       "      <th>0</th>\n",
       "      <td>16</td>\n",
       "      <td>23.0</td>\n",
       "      <td>2.0</td>\n",
       "      <td>6.0</td>\n",
       "      <td>1.0</td>\n",
       "      <td>0</td>\n",
       "      <td>10</td>\n",
       "      <td>Hyderabad</td>\n",
       "      <td>Tata Power Company Ltd.</td>\n",
       "      <td>384</td>\n",
       "      <td>8.4</td>\n",
       "      <td>3225.6</td>\n",
       "    </tr>\n",
       "    <tr>\n",
       "      <th>1</th>\n",
       "      <td>19</td>\n",
       "      <td>22.0</td>\n",
       "      <td>2.0</td>\n",
       "      <td>3.0</td>\n",
       "      <td>1.0</td>\n",
       "      <td>0</td>\n",
       "      <td>5</td>\n",
       "      <td>Vadodara</td>\n",
       "      <td>NHPC</td>\n",
       "      <td>488</td>\n",
       "      <td>7.8</td>\n",
       "      <td>3806.4</td>\n",
       "    </tr>\n",
       "    <tr>\n",
       "      <th>2</th>\n",
       "      <td>7</td>\n",
       "      <td>20.0</td>\n",
       "      <td>2.0</td>\n",
       "      <td>6.0</td>\n",
       "      <td>7.0</td>\n",
       "      <td>0</td>\n",
       "      <td>7</td>\n",
       "      <td>Shimla</td>\n",
       "      <td>Jyoti Structure</td>\n",
       "      <td>416</td>\n",
       "      <td>7.7</td>\n",
       "      <td>3203.2</td>\n",
       "    </tr>\n",
       "    <tr>\n",
       "      <th>3</th>\n",
       "      <td>7</td>\n",
       "      <td>22.0</td>\n",
       "      <td>3.0</td>\n",
       "      <td>21.0</td>\n",
       "      <td>1.0</td>\n",
       "      <td>0</td>\n",
       "      <td>6</td>\n",
       "      <td>Mumbai</td>\n",
       "      <td>Power Grid Corp</td>\n",
       "      <td>475</td>\n",
       "      <td>9.2</td>\n",
       "      <td>4370.0</td>\n",
       "    </tr>\n",
       "    <tr>\n",
       "      <th>4</th>\n",
       "      <td>11</td>\n",
       "      <td>23.0</td>\n",
       "      <td>2.0</td>\n",
       "      <td>11.0</td>\n",
       "      <td>1.0</td>\n",
       "      <td>0</td>\n",
       "      <td>2</td>\n",
       "      <td>Mumbai</td>\n",
       "      <td>Ratnagiri Gas and Power Pvt. Ltd. (RGPPL)</td>\n",
       "      <td>457</td>\n",
       "      <td>9.2</td>\n",
       "      <td>4204.4</td>\n",
       "    </tr>\n",
       "  </tbody>\n",
       "</table>\n",
       "</div>"
      ],
      "text/plain": [
       "   Fan  Refrigerator  AirConditioner  Television  Monitor  MotorPump  Month  \\\n",
       "0   16          23.0             2.0         6.0      1.0          0     10   \n",
       "1   19          22.0             2.0         3.0      1.0          0      5   \n",
       "2    7          20.0             2.0         6.0      7.0          0      7   \n",
       "3    7          22.0             3.0        21.0      1.0          0      6   \n",
       "4   11          23.0             2.0        11.0      1.0          0      2   \n",
       "\n",
       "        City                                    Company  MonthlyHours  \\\n",
       "0  Hyderabad                    Tata Power Company Ltd.           384   \n",
       "1   Vadodara                                       NHPC           488   \n",
       "2     Shimla                            Jyoti Structure           416   \n",
       "3     Mumbai                            Power Grid Corp           475   \n",
       "4     Mumbai  Ratnagiri Gas and Power Pvt. Ltd. (RGPPL)           457   \n",
       "\n",
       "   TariffRate  ElectricityBill  \n",
       "0         8.4           3225.6  \n",
       "1         7.8           3806.4  \n",
       "2         7.7           3203.2  \n",
       "3         9.2           4370.0  \n",
       "4         9.2           4204.4  "
      ]
     },
     "execution_count": 3,
     "metadata": {},
     "output_type": "execute_result"
    }
   ],
   "source": [
    "df.head()"
   ]
  },
  {
   "cell_type": "code",
   "execution_count": 4,
   "id": "ce129933",
   "metadata": {},
   "outputs": [
    {
     "data": {
      "text/html": [
       "<div>\n",
       "<style scoped>\n",
       "    .dataframe tbody tr th:only-of-type {\n",
       "        vertical-align: middle;\n",
       "    }\n",
       "\n",
       "    .dataframe tbody tr th {\n",
       "        vertical-align: top;\n",
       "    }\n",
       "\n",
       "    .dataframe thead th {\n",
       "        text-align: right;\n",
       "    }\n",
       "</style>\n",
       "<table border=\"1\" class=\"dataframe\">\n",
       "  <thead>\n",
       "    <tr style=\"text-align: right;\">\n",
       "      <th></th>\n",
       "      <th>Fan</th>\n",
       "      <th>Refrigerator</th>\n",
       "      <th>AirConditioner</th>\n",
       "      <th>Television</th>\n",
       "      <th>Monitor</th>\n",
       "      <th>MotorPump</th>\n",
       "      <th>Month</th>\n",
       "      <th>MonthlyHours</th>\n",
       "      <th>TariffRate</th>\n",
       "      <th>ElectricityBill</th>\n",
       "    </tr>\n",
       "  </thead>\n",
       "  <tbody>\n",
       "    <tr>\n",
       "      <th>count</th>\n",
       "      <td>45345.000000</td>\n",
       "      <td>45345.000000</td>\n",
       "      <td>45345.000000</td>\n",
       "      <td>45345.000000</td>\n",
       "      <td>45345.000000</td>\n",
       "      <td>45345.0</td>\n",
       "      <td>45345.000000</td>\n",
       "      <td>45345.000000</td>\n",
       "      <td>45345.000000</td>\n",
       "      <td>45345.000000</td>\n",
       "    </tr>\n",
       "    <tr>\n",
       "      <th>mean</th>\n",
       "      <td>13.990694</td>\n",
       "      <td>21.705458</td>\n",
       "      <td>1.503959</td>\n",
       "      <td>12.502635</td>\n",
       "      <td>2.865057</td>\n",
       "      <td>0.0</td>\n",
       "      <td>6.488058</td>\n",
       "      <td>515.083207</td>\n",
       "      <td>8.369648</td>\n",
       "      <td>4311.771307</td>\n",
       "    </tr>\n",
       "    <tr>\n",
       "      <th>std</th>\n",
       "      <td>5.470816</td>\n",
       "      <td>1.672575</td>\n",
       "      <td>1.115482</td>\n",
       "      <td>5.756007</td>\n",
       "      <td>3.894933</td>\n",
       "      <td>0.0</td>\n",
       "      <td>3.443252</td>\n",
       "      <td>122.618017</td>\n",
       "      <td>0.576992</td>\n",
       "      <td>1073.886406</td>\n",
       "    </tr>\n",
       "    <tr>\n",
       "      <th>min</th>\n",
       "      <td>5.000000</td>\n",
       "      <td>17.000000</td>\n",
       "      <td>0.000000</td>\n",
       "      <td>3.000000</td>\n",
       "      <td>1.000000</td>\n",
       "      <td>0.0</td>\n",
       "      <td>1.000000</td>\n",
       "      <td>95.000000</td>\n",
       "      <td>7.400000</td>\n",
       "      <td>807.500000</td>\n",
       "    </tr>\n",
       "    <tr>\n",
       "      <th>25%</th>\n",
       "      <td>9.000000</td>\n",
       "      <td>22.000000</td>\n",
       "      <td>1.000000</td>\n",
       "      <td>7.000000</td>\n",
       "      <td>1.000000</td>\n",
       "      <td>0.0</td>\n",
       "      <td>3.000000</td>\n",
       "      <td>429.000000</td>\n",
       "      <td>7.900000</td>\n",
       "      <td>3556.800000</td>\n",
       "    </tr>\n",
       "    <tr>\n",
       "      <th>50%</th>\n",
       "      <td>14.000000</td>\n",
       "      <td>22.000000</td>\n",
       "      <td>2.000000</td>\n",
       "      <td>13.000000</td>\n",
       "      <td>1.000000</td>\n",
       "      <td>0.0</td>\n",
       "      <td>6.000000</td>\n",
       "      <td>515.000000</td>\n",
       "      <td>8.400000</td>\n",
       "      <td>4299.400000</td>\n",
       "    </tr>\n",
       "    <tr>\n",
       "      <th>75%</th>\n",
       "      <td>19.000000</td>\n",
       "      <td>23.000000</td>\n",
       "      <td>2.000000</td>\n",
       "      <td>17.000000</td>\n",
       "      <td>1.000000</td>\n",
       "      <td>0.0</td>\n",
       "      <td>9.000000</td>\n",
       "      <td>601.000000</td>\n",
       "      <td>8.900000</td>\n",
       "      <td>5038.800000</td>\n",
       "    </tr>\n",
       "    <tr>\n",
       "      <th>max</th>\n",
       "      <td>23.000000</td>\n",
       "      <td>23.000000</td>\n",
       "      <td>3.000000</td>\n",
       "      <td>22.000000</td>\n",
       "      <td>12.000000</td>\n",
       "      <td>0.0</td>\n",
       "      <td>12.000000</td>\n",
       "      <td>926.000000</td>\n",
       "      <td>9.300000</td>\n",
       "      <td>8286.300000</td>\n",
       "    </tr>\n",
       "  </tbody>\n",
       "</table>\n",
       "</div>"
      ],
      "text/plain": [
       "                Fan  Refrigerator  AirConditioner    Television       Monitor  \\\n",
       "count  45345.000000  45345.000000    45345.000000  45345.000000  45345.000000   \n",
       "mean      13.990694     21.705458        1.503959     12.502635      2.865057   \n",
       "std        5.470816      1.672575        1.115482      5.756007      3.894933   \n",
       "min        5.000000     17.000000        0.000000      3.000000      1.000000   \n",
       "25%        9.000000     22.000000        1.000000      7.000000      1.000000   \n",
       "50%       14.000000     22.000000        2.000000     13.000000      1.000000   \n",
       "75%       19.000000     23.000000        2.000000     17.000000      1.000000   \n",
       "max       23.000000     23.000000        3.000000     22.000000     12.000000   \n",
       "\n",
       "       MotorPump         Month  MonthlyHours    TariffRate  ElectricityBill  \n",
       "count    45345.0  45345.000000  45345.000000  45345.000000     45345.000000  \n",
       "mean         0.0      6.488058    515.083207      8.369648      4311.771307  \n",
       "std          0.0      3.443252    122.618017      0.576992      1073.886406  \n",
       "min          0.0      1.000000     95.000000      7.400000       807.500000  \n",
       "25%          0.0      3.000000    429.000000      7.900000      3556.800000  \n",
       "50%          0.0      6.000000    515.000000      8.400000      4299.400000  \n",
       "75%          0.0      9.000000    601.000000      8.900000      5038.800000  \n",
       "max          0.0     12.000000    926.000000      9.300000      8286.300000  "
      ]
     },
     "execution_count": 4,
     "metadata": {},
     "output_type": "execute_result"
    }
   ],
   "source": [
    "df.describe()"
   ]
  },
  {
   "cell_type": "code",
   "execution_count": 5,
   "id": "1653a76a",
   "metadata": {},
   "outputs": [
    {
     "data": {
      "text/plain": [
       "Fan                0\n",
       "Refrigerator       0\n",
       "AirConditioner     0\n",
       "Television         0\n",
       "Monitor            0\n",
       "MotorPump          0\n",
       "Month              0\n",
       "City               0\n",
       "Company            0\n",
       "MonthlyHours       0\n",
       "TariffRate         0\n",
       "ElectricityBill    0\n",
       "dtype: int64"
      ]
     },
     "execution_count": 5,
     "metadata": {},
     "output_type": "execute_result"
    }
   ],
   "source": [
    "#looking at null values\n",
    "df.isnull().sum()"
   ]
  },
  {
   "cell_type": "code",
   "execution_count": 6,
   "id": "00676468",
   "metadata": {},
   "outputs": [
    {
     "ename": "ValueError",
     "evalue": "could not convert string to float: 'Hyderabad'",
     "output_type": "error",
     "traceback": [
      "\u001b[1;31m---------------------------------------------------------------------------\u001b[0m",
      "\u001b[1;31mValueError\u001b[0m                                Traceback (most recent call last)",
      "Input \u001b[1;32mIn [6]\u001b[0m, in \u001b[0;36m<cell line: 1>\u001b[1;34m()\u001b[0m\n\u001b[1;32m----> 1\u001b[0m \u001b[43mdf\u001b[49m\u001b[38;5;241;43m.\u001b[39;49m\u001b[43mcorr\u001b[49m\u001b[43m(\u001b[49m\u001b[43m)\u001b[49m\n",
      "File \u001b[1;32m~\\AppData\\Local\\Programs\\Python\\Python310\\lib\\site-packages\\pandas\\core\\frame.py:11049\u001b[0m, in \u001b[0;36mDataFrame.corr\u001b[1;34m(self, method, min_periods, numeric_only)\u001b[0m\n\u001b[0;32m  11047\u001b[0m cols \u001b[38;5;241m=\u001b[39m data\u001b[38;5;241m.\u001b[39mcolumns\n\u001b[0;32m  11048\u001b[0m idx \u001b[38;5;241m=\u001b[39m cols\u001b[38;5;241m.\u001b[39mcopy()\n\u001b[1;32m> 11049\u001b[0m mat \u001b[38;5;241m=\u001b[39m \u001b[43mdata\u001b[49m\u001b[38;5;241;43m.\u001b[39;49m\u001b[43mto_numpy\u001b[49m\u001b[43m(\u001b[49m\u001b[43mdtype\u001b[49m\u001b[38;5;241;43m=\u001b[39;49m\u001b[38;5;28;43mfloat\u001b[39;49m\u001b[43m,\u001b[49m\u001b[43m \u001b[49m\u001b[43mna_value\u001b[49m\u001b[38;5;241;43m=\u001b[39;49m\u001b[43mnp\u001b[49m\u001b[38;5;241;43m.\u001b[39;49m\u001b[43mnan\u001b[49m\u001b[43m,\u001b[49m\u001b[43m \u001b[49m\u001b[43mcopy\u001b[49m\u001b[38;5;241;43m=\u001b[39;49m\u001b[38;5;28;43;01mFalse\u001b[39;49;00m\u001b[43m)\u001b[49m\n\u001b[0;32m  11051\u001b[0m \u001b[38;5;28;01mif\u001b[39;00m method \u001b[38;5;241m==\u001b[39m \u001b[38;5;124m\"\u001b[39m\u001b[38;5;124mpearson\u001b[39m\u001b[38;5;124m\"\u001b[39m:\n\u001b[0;32m  11052\u001b[0m     correl \u001b[38;5;241m=\u001b[39m libalgos\u001b[38;5;241m.\u001b[39mnancorr(mat, minp\u001b[38;5;241m=\u001b[39mmin_periods)\n",
      "File \u001b[1;32m~\\AppData\\Local\\Programs\\Python\\Python310\\lib\\site-packages\\pandas\\core\\frame.py:1993\u001b[0m, in \u001b[0;36mDataFrame.to_numpy\u001b[1;34m(self, dtype, copy, na_value)\u001b[0m\n\u001b[0;32m   1991\u001b[0m \u001b[38;5;28;01mif\u001b[39;00m dtype \u001b[38;5;129;01mis\u001b[39;00m \u001b[38;5;129;01mnot\u001b[39;00m \u001b[38;5;28;01mNone\u001b[39;00m:\n\u001b[0;32m   1992\u001b[0m     dtype \u001b[38;5;241m=\u001b[39m np\u001b[38;5;241m.\u001b[39mdtype(dtype)\n\u001b[1;32m-> 1993\u001b[0m result \u001b[38;5;241m=\u001b[39m \u001b[38;5;28;43mself\u001b[39;49m\u001b[38;5;241;43m.\u001b[39;49m\u001b[43m_mgr\u001b[49m\u001b[38;5;241;43m.\u001b[39;49m\u001b[43mas_array\u001b[49m\u001b[43m(\u001b[49m\u001b[43mdtype\u001b[49m\u001b[38;5;241;43m=\u001b[39;49m\u001b[43mdtype\u001b[49m\u001b[43m,\u001b[49m\u001b[43m \u001b[49m\u001b[43mcopy\u001b[49m\u001b[38;5;241;43m=\u001b[39;49m\u001b[43mcopy\u001b[49m\u001b[43m,\u001b[49m\u001b[43m \u001b[49m\u001b[43mna_value\u001b[49m\u001b[38;5;241;43m=\u001b[39;49m\u001b[43mna_value\u001b[49m\u001b[43m)\u001b[49m\n\u001b[0;32m   1994\u001b[0m \u001b[38;5;28;01mif\u001b[39;00m result\u001b[38;5;241m.\u001b[39mdtype \u001b[38;5;129;01mis\u001b[39;00m \u001b[38;5;129;01mnot\u001b[39;00m dtype:\n\u001b[0;32m   1995\u001b[0m     result \u001b[38;5;241m=\u001b[39m np\u001b[38;5;241m.\u001b[39masarray(result, dtype\u001b[38;5;241m=\u001b[39mdtype)\n",
      "File \u001b[1;32m~\\AppData\\Local\\Programs\\Python\\Python310\\lib\\site-packages\\pandas\\core\\internals\\managers.py:1694\u001b[0m, in \u001b[0;36mBlockManager.as_array\u001b[1;34m(self, dtype, copy, na_value)\u001b[0m\n\u001b[0;32m   1692\u001b[0m         arr\u001b[38;5;241m.\u001b[39mflags\u001b[38;5;241m.\u001b[39mwriteable \u001b[38;5;241m=\u001b[39m \u001b[38;5;28;01mFalse\u001b[39;00m\n\u001b[0;32m   1693\u001b[0m \u001b[38;5;28;01melse\u001b[39;00m:\n\u001b[1;32m-> 1694\u001b[0m     arr \u001b[38;5;241m=\u001b[39m \u001b[38;5;28;43mself\u001b[39;49m\u001b[38;5;241;43m.\u001b[39;49m\u001b[43m_interleave\u001b[49m\u001b[43m(\u001b[49m\u001b[43mdtype\u001b[49m\u001b[38;5;241;43m=\u001b[39;49m\u001b[43mdtype\u001b[49m\u001b[43m,\u001b[49m\u001b[43m \u001b[49m\u001b[43mna_value\u001b[49m\u001b[38;5;241;43m=\u001b[39;49m\u001b[43mna_value\u001b[49m\u001b[43m)\u001b[49m\n\u001b[0;32m   1695\u001b[0m     \u001b[38;5;66;03m# The underlying data was copied within _interleave, so no need\u001b[39;00m\n\u001b[0;32m   1696\u001b[0m     \u001b[38;5;66;03m# to further copy if copy=True or setting na_value\u001b[39;00m\n\u001b[0;32m   1698\u001b[0m \u001b[38;5;28;01mif\u001b[39;00m na_value \u001b[38;5;129;01mis\u001b[39;00m lib\u001b[38;5;241m.\u001b[39mno_default:\n",
      "File \u001b[1;32m~\\AppData\\Local\\Programs\\Python\\Python310\\lib\\site-packages\\pandas\\core\\internals\\managers.py:1753\u001b[0m, in \u001b[0;36mBlockManager._interleave\u001b[1;34m(self, dtype, na_value)\u001b[0m\n\u001b[0;32m   1751\u001b[0m     \u001b[38;5;28;01melse\u001b[39;00m:\n\u001b[0;32m   1752\u001b[0m         arr \u001b[38;5;241m=\u001b[39m blk\u001b[38;5;241m.\u001b[39mget_values(dtype)\n\u001b[1;32m-> 1753\u001b[0m     result[rl\u001b[38;5;241m.\u001b[39mindexer] \u001b[38;5;241m=\u001b[39m arr\n\u001b[0;32m   1754\u001b[0m     itemmask[rl\u001b[38;5;241m.\u001b[39mindexer] \u001b[38;5;241m=\u001b[39m \u001b[38;5;241m1\u001b[39m\n\u001b[0;32m   1756\u001b[0m \u001b[38;5;28;01mif\u001b[39;00m \u001b[38;5;129;01mnot\u001b[39;00m itemmask\u001b[38;5;241m.\u001b[39mall():\n",
      "\u001b[1;31mValueError\u001b[0m: could not convert string to float: 'Hyderabad'"
     ]
    }
   ],
   "source": [
    "df.corr()"
   ]
  },
  {
   "cell_type": "code",
   "execution_count": null,
   "id": "9c357dc5",
   "metadata": {},
   "outputs": [],
   "source": [
    "sns.heatmap(df.corr(),annot=True)"
   ]
  },
  {
   "cell_type": "code",
   "execution_count": 6,
   "id": "0a9e8a46",
   "metadata": {},
   "outputs": [
    {
     "name": "stdout",
     "output_type": "stream",
     "text": [
      "<class 'pandas.core.frame.DataFrame'>\n",
      "RangeIndex: 45345 entries, 0 to 45344\n",
      "Data columns (total 12 columns):\n",
      " #   Column           Non-Null Count  Dtype  \n",
      "---  ------           --------------  -----  \n",
      " 0   Fan              45345 non-null  int64  \n",
      " 1   Refrigerator     45345 non-null  float64\n",
      " 2   AirConditioner   45345 non-null  float64\n",
      " 3   Television       45345 non-null  float64\n",
      " 4   Monitor          45345 non-null  float64\n",
      " 5   MotorPump        45345 non-null  int64  \n",
      " 6   Month            45345 non-null  int64  \n",
      " 7   City             45345 non-null  object \n",
      " 8   Company          45345 non-null  object \n",
      " 9   MonthlyHours     45345 non-null  int64  \n",
      " 10  TariffRate       45345 non-null  float64\n",
      " 11  ElectricityBill  45345 non-null  float64\n",
      "dtypes: float64(6), int64(4), object(2)\n",
      "memory usage: 4.2+ MB\n"
     ]
    }
   ],
   "source": [
    "df.info()"
   ]
  },
  {
   "cell_type": "code",
   "execution_count": 7,
   "id": "a7444782",
   "metadata": {},
   "outputs": [],
   "source": [
    "X=df.drop(['ElectricityBill','Company','City'],axis=1)\n",
    "y=df[['ElectricityBill']]"
   ]
  },
  {
   "cell_type": "code",
   "execution_count": 8,
   "id": "67791ff7",
   "metadata": {},
   "outputs": [
    {
     "data": {
      "text/html": [
       "<div>\n",
       "<style scoped>\n",
       "    .dataframe tbody tr th:only-of-type {\n",
       "        vertical-align: middle;\n",
       "    }\n",
       "\n",
       "    .dataframe tbody tr th {\n",
       "        vertical-align: top;\n",
       "    }\n",
       "\n",
       "    .dataframe thead th {\n",
       "        text-align: right;\n",
       "    }\n",
       "</style>\n",
       "<table border=\"1\" class=\"dataframe\">\n",
       "  <thead>\n",
       "    <tr style=\"text-align: right;\">\n",
       "      <th></th>\n",
       "      <th>ElectricityBill</th>\n",
       "    </tr>\n",
       "  </thead>\n",
       "  <tbody>\n",
       "    <tr>\n",
       "      <th>0</th>\n",
       "      <td>3225.6</td>\n",
       "    </tr>\n",
       "    <tr>\n",
       "      <th>1</th>\n",
       "      <td>3806.4</td>\n",
       "    </tr>\n",
       "    <tr>\n",
       "      <th>2</th>\n",
       "      <td>3203.2</td>\n",
       "    </tr>\n",
       "    <tr>\n",
       "      <th>3</th>\n",
       "      <td>4370.0</td>\n",
       "    </tr>\n",
       "    <tr>\n",
       "      <th>4</th>\n",
       "      <td>4204.4</td>\n",
       "    </tr>\n",
       "  </tbody>\n",
       "</table>\n",
       "</div>"
      ],
      "text/plain": [
       "   ElectricityBill\n",
       "0           3225.6\n",
       "1           3806.4\n",
       "2           3203.2\n",
       "3           4370.0\n",
       "4           4204.4"
      ]
     },
     "execution_count": 8,
     "metadata": {},
     "output_type": "execute_result"
    }
   ],
   "source": [
    "y.head()"
   ]
  },
  {
   "cell_type": "markdown",
   "id": "4253dbca",
   "metadata": {},
   "source": [
    "# Feature Selection"
   ]
  },
  {
   "cell_type": "markdown",
   "id": "305fab92",
   "metadata": {},
   "source": [
    "# mutual_info_regression"
   ]
  },
  {
   "cell_type": "code",
   "execution_count": 9,
   "id": "353aec64",
   "metadata": {},
   "outputs": [],
   "source": [
    "from sklearn.feature_selection import mutual_info_regression"
   ]
  },
  {
   "cell_type": "code",
   "execution_count": 10,
   "id": "8bd6ea0f",
   "metadata": {},
   "outputs": [],
   "source": [
    "# Calculate the information gain for each feature\n",
    "info_gains = mutual_info_regression(X, y)"
   ]
  },
  {
   "cell_type": "code",
   "execution_count": 11,
   "id": "a4db9b68",
   "metadata": {},
   "outputs": [],
   "source": [
    "feature_info_gains = pd.DataFrame({'Feature': X.columns, 'Information Gain': info_gains})"
   ]
  },
  {
   "cell_type": "code",
   "execution_count": 12,
   "id": "1b7596e0",
   "metadata": {},
   "outputs": [],
   "source": [
    "sorted_features = feature_info_gains.sort_values(by='Information Gain', ascending=False)"
   ]
  },
  {
   "cell_type": "code",
   "execution_count": 13,
   "id": "72692857",
   "metadata": {},
   "outputs": [
    {
     "data": {
      "text/html": [
       "<div>\n",
       "<style scoped>\n",
       "    .dataframe tbody tr th:only-of-type {\n",
       "        vertical-align: middle;\n",
       "    }\n",
       "\n",
       "    .dataframe tbody tr th {\n",
       "        vertical-align: top;\n",
       "    }\n",
       "\n",
       "    .dataframe thead th {\n",
       "        text-align: right;\n",
       "    }\n",
       "</style>\n",
       "<table border=\"1\" class=\"dataframe\">\n",
       "  <thead>\n",
       "    <tr style=\"text-align: right;\">\n",
       "      <th></th>\n",
       "      <th>Feature</th>\n",
       "      <th>Information Gain</th>\n",
       "    </tr>\n",
       "  </thead>\n",
       "  <tbody>\n",
       "    <tr>\n",
       "      <th>7</th>\n",
       "      <td>MonthlyHours</td>\n",
       "      <td>5.445351</td>\n",
       "    </tr>\n",
       "    <tr>\n",
       "      <th>8</th>\n",
       "      <td>TariffRate</td>\n",
       "      <td>2.116969</td>\n",
       "    </tr>\n",
       "    <tr>\n",
       "      <th>0</th>\n",
       "      <td>Fan</td>\n",
       "      <td>0.100750</td>\n",
       "    </tr>\n",
       "    <tr>\n",
       "      <th>3</th>\n",
       "      <td>Television</td>\n",
       "      <td>0.098236</td>\n",
       "    </tr>\n",
       "    <tr>\n",
       "      <th>1</th>\n",
       "      <td>Refrigerator</td>\n",
       "      <td>0.087583</td>\n",
       "    </tr>\n",
       "    <tr>\n",
       "      <th>4</th>\n",
       "      <td>Monitor</td>\n",
       "      <td>0.067697</td>\n",
       "    </tr>\n",
       "    <tr>\n",
       "      <th>2</th>\n",
       "      <td>AirConditioner</td>\n",
       "      <td>0.035868</td>\n",
       "    </tr>\n",
       "    <tr>\n",
       "      <th>6</th>\n",
       "      <td>Month</td>\n",
       "      <td>0.004280</td>\n",
       "    </tr>\n",
       "    <tr>\n",
       "      <th>5</th>\n",
       "      <td>MotorPump</td>\n",
       "      <td>0.000000</td>\n",
       "    </tr>\n",
       "  </tbody>\n",
       "</table>\n",
       "</div>"
      ],
      "text/plain": [
       "          Feature  Information Gain\n",
       "7    MonthlyHours          5.445351\n",
       "8      TariffRate          2.116969\n",
       "0             Fan          0.100750\n",
       "3      Television          0.098236\n",
       "1    Refrigerator          0.087583\n",
       "4         Monitor          0.067697\n",
       "2  AirConditioner          0.035868\n",
       "6           Month          0.004280\n",
       "5       MotorPump          0.000000"
      ]
     },
     "execution_count": 13,
     "metadata": {},
     "output_type": "execute_result"
    }
   ],
   "source": [
    "sorted_features"
   ]
  },
  {
   "cell_type": "code",
   "execution_count": 14,
   "id": "5a6cd4fd",
   "metadata": {},
   "outputs": [],
   "source": [
    "# Select the top-k features with the highest information gains#0.03\n",
    "k = 8  # Set the desired number of selected features\n",
    "selected_features = sorted_features.head(k)['Feature'].tolist()"
   ]
  },
  {
   "cell_type": "code",
   "execution_count": 15,
   "id": "f1f5917b",
   "metadata": {},
   "outputs": [
    {
     "data": {
      "text/plain": [
       "['MonthlyHours',\n",
       " 'TariffRate',\n",
       " 'Fan',\n",
       " 'Television',\n",
       " 'Refrigerator',\n",
       " 'Monitor',\n",
       " 'AirConditioner',\n",
       " 'Month']"
      ]
     },
     "execution_count": 15,
     "metadata": {},
     "output_type": "execute_result"
    }
   ],
   "source": [
    "selected_features"
   ]
  },
  {
   "cell_type": "code",
   "execution_count": 16,
   "id": "db38bb93",
   "metadata": {},
   "outputs": [
    {
     "name": "stdout",
     "output_type": "stream",
     "text": [
      "DataFrame with Selected Features:\n"
     ]
    },
    {
     "data": {
      "text/html": [
       "<div>\n",
       "<style scoped>\n",
       "    .dataframe tbody tr th:only-of-type {\n",
       "        vertical-align: middle;\n",
       "    }\n",
       "\n",
       "    .dataframe tbody tr th {\n",
       "        vertical-align: top;\n",
       "    }\n",
       "\n",
       "    .dataframe thead th {\n",
       "        text-align: right;\n",
       "    }\n",
       "</style>\n",
       "<table border=\"1\" class=\"dataframe\">\n",
       "  <thead>\n",
       "    <tr style=\"text-align: right;\">\n",
       "      <th></th>\n",
       "      <th>MonthlyHours</th>\n",
       "      <th>TariffRate</th>\n",
       "      <th>Fan</th>\n",
       "      <th>Television</th>\n",
       "      <th>Refrigerator</th>\n",
       "      <th>Monitor</th>\n",
       "      <th>AirConditioner</th>\n",
       "      <th>Month</th>\n",
       "    </tr>\n",
       "  </thead>\n",
       "  <tbody>\n",
       "    <tr>\n",
       "      <th>0</th>\n",
       "      <td>384</td>\n",
       "      <td>8.4</td>\n",
       "      <td>16</td>\n",
       "      <td>6.0</td>\n",
       "      <td>23.0</td>\n",
       "      <td>1.0</td>\n",
       "      <td>2.0</td>\n",
       "      <td>10</td>\n",
       "    </tr>\n",
       "    <tr>\n",
       "      <th>1</th>\n",
       "      <td>488</td>\n",
       "      <td>7.8</td>\n",
       "      <td>19</td>\n",
       "      <td>3.0</td>\n",
       "      <td>22.0</td>\n",
       "      <td>1.0</td>\n",
       "      <td>2.0</td>\n",
       "      <td>5</td>\n",
       "    </tr>\n",
       "    <tr>\n",
       "      <th>2</th>\n",
       "      <td>416</td>\n",
       "      <td>7.7</td>\n",
       "      <td>7</td>\n",
       "      <td>6.0</td>\n",
       "      <td>20.0</td>\n",
       "      <td>7.0</td>\n",
       "      <td>2.0</td>\n",
       "      <td>7</td>\n",
       "    </tr>\n",
       "    <tr>\n",
       "      <th>3</th>\n",
       "      <td>475</td>\n",
       "      <td>9.2</td>\n",
       "      <td>7</td>\n",
       "      <td>21.0</td>\n",
       "      <td>22.0</td>\n",
       "      <td>1.0</td>\n",
       "      <td>3.0</td>\n",
       "      <td>6</td>\n",
       "    </tr>\n",
       "    <tr>\n",
       "      <th>4</th>\n",
       "      <td>457</td>\n",
       "      <td>9.2</td>\n",
       "      <td>11</td>\n",
       "      <td>11.0</td>\n",
       "      <td>23.0</td>\n",
       "      <td>1.0</td>\n",
       "      <td>2.0</td>\n",
       "      <td>2</td>\n",
       "    </tr>\n",
       "  </tbody>\n",
       "</table>\n",
       "</div>"
      ],
      "text/plain": [
       "   MonthlyHours  TariffRate  Fan  Television  Refrigerator  Monitor  \\\n",
       "0           384         8.4   16         6.0          23.0      1.0   \n",
       "1           488         7.8   19         3.0          22.0      1.0   \n",
       "2           416         7.7    7         6.0          20.0      7.0   \n",
       "3           475         9.2    7        21.0          22.0      1.0   \n",
       "4           457         9.2   11        11.0          23.0      1.0   \n",
       "\n",
       "   AirConditioner  Month  \n",
       "0             2.0     10  \n",
       "1             2.0      5  \n",
       "2             2.0      7  \n",
       "3             3.0      6  \n",
       "4             2.0      2  "
      ]
     },
     "execution_count": 16,
     "metadata": {},
     "output_type": "execute_result"
    }
   ],
   "source": [
    "# Create a new DataFrame containing only the selected features\n",
    "df_selected = df[selected_features]\n",
    "\n",
    "# Display the new DataFrame\n",
    "print(\"DataFrame with Selected Features:\")\n",
    "df_selected.head()"
   ]
  },
  {
   "cell_type": "code",
   "execution_count": 17,
   "id": "7e0ce2b9",
   "metadata": {},
   "outputs": [],
   "source": [
    "x = df_selected"
   ]
  },
  {
   "cell_type": "code",
   "execution_count": 18,
   "id": "ce1d206b",
   "metadata": {},
   "outputs": [],
   "source": [
    "from sklearn.model_selection import train_test_split\n",
    "xtrain, xtest, ytrain, ytest = train_test_split(x, y, test_size=0.2, random_state=42)"
   ]
  },
  {
   "cell_type": "markdown",
   "id": "1c44024c",
   "metadata": {},
   "source": [
    "# Generalized Additive Models (GAM)"
   ]
  },
  {
   "cell_type": "code",
   "execution_count": 19,
   "id": "7190849f",
   "metadata": {},
   "outputs": [],
   "source": [
    "from pygam import LinearGAM, s, f"
   ]
  },
  {
   "cell_type": "code",
   "execution_count": 20,
   "id": "aab04be2",
   "metadata": {},
   "outputs": [],
   "source": [
    "model1 = LinearGAM(s(0) + s(1) + s(2)).fit(xtrain, ytrain)\n"
   ]
  },
  {
   "cell_type": "code",
   "execution_count": 21,
   "id": "b2a14456",
   "metadata": {},
   "outputs": [
    {
     "name": "stdout",
     "output_type": "stream",
     "text": [
      "Root Mean Squared Error (RMSE) on Test Set: 70.52628043107528\n",
      "R2 score on Test Set: 0.9956346556629285\n",
      "Mean Squared Error (MSE): 4973.956231442671\n",
      "Mean Absolute Error (MAE): 49.22799076796036\n",
      "Mean Absolute Percentage Error (MAPE) on Test Set: 0.01306804120995681\n"
     ]
    }
   ],
   "source": [
    "predictions = model1.predict(xtest)\n",
    "\n",
    "# Evaluating the model performance\n",
    "rmse = np.sqrt(mean_squared_error(ytest, predictions))\n",
    "print(f\"Root Mean Squared Error (RMSE) on Test Set: {rmse}\")\n",
    "\n",
    "\n",
    "acc = r2_score(ytest, predictions)\n",
    "print(f\"R2 score on Test Set: {acc}\")\n",
    "mse = mean_squared_error(ytest, predictions)\n",
    "print(\"Mean Squared Error (MSE):\", mse)\n",
    "# Mean Absolute Error (MAE)\n",
    "mae = mean_absolute_error(ytest, predictions)\n",
    "print(\"Mean Absolute Error (MAE):\", mae)\n",
    "# Calculate Mean Absolute Percentage Error (MAPE)\n",
    "mape = mean_absolute_percentage_error(ytest, predictions)\n",
    "\n",
    "print(f\"Mean Absolute Percentage Error (MAPE) on Test Set: {mape}\")"
   ]
  },
  {
   "cell_type": "markdown",
   "id": "b4cc4366",
   "metadata": {},
   "source": [
    "# Least Angle Regression (LARS)"
   ]
  },
  {
   "cell_type": "code",
   "execution_count": 22,
   "id": "9d6e488d",
   "metadata": {},
   "outputs": [],
   "source": [
    "from sklearn.linear_model import Lars"
   ]
  },
  {
   "cell_type": "code",
   "execution_count": 23,
   "id": "30816b53",
   "metadata": {},
   "outputs": [],
   "source": [
    "model2 = Lars().fit(xtrain, ytrain)"
   ]
  },
  {
   "cell_type": "code",
   "execution_count": 24,
   "id": "ef52d957",
   "metadata": {},
   "outputs": [
    {
     "name": "stdout",
     "output_type": "stream",
     "text": [
      "Root Mean Squared Error (RMSE) on Test Set: 70.49629910886931\n",
      "R2 score on Test Set: 0.9956383663641158\n",
      "Mean Squared Error (MSE): 4969.728188047168\n",
      "Mean Absolute Error (MAE): 49.19376087975486\n",
      "Mean Absolute Percentage Error (MAPE) on Test Set: 0.013062828792044467\n"
     ]
    }
   ],
   "source": [
    "predictions = model2.predict(xtest)\n",
    "\n",
    "# Evaluating the model performance\n",
    "rmse = np.sqrt(mean_squared_error(ytest, predictions))\n",
    "print(f\"Root Mean Squared Error (RMSE) on Test Set: {rmse}\")\n",
    "\n",
    "\n",
    "acc = r2_score(ytest, predictions)\n",
    "print(f\"R2 score on Test Set: {acc}\")\n",
    "mse = mean_squared_error(ytest, predictions)\n",
    "print(\"Mean Squared Error (MSE):\", mse)\n",
    "# Mean Absolute Error (MAE)\n",
    "mae = mean_absolute_error(ytest, predictions)\n",
    "print(\"Mean Absolute Error (MAE):\", mae)\n",
    "# Calculate Mean Absolute Percentage Error (MAPE)\n",
    "mape = mean_absolute_percentage_error(ytest, predictions)\n",
    "\n",
    "print(f\"Mean Absolute Percentage Error (MAPE) on Test Set: {mape}\")"
   ]
  },
  {
   "cell_type": "markdown",
   "id": "88a89a75",
   "metadata": {},
   "source": [
    "# HuberRegressor"
   ]
  },
  {
   "cell_type": "code",
   "execution_count": 19,
   "id": "35a90a03",
   "metadata": {},
   "outputs": [],
   "source": [
    "from sklearn.linear_model import HuberRegressor"
   ]
  },
  {
   "cell_type": "code",
   "execution_count": 20,
   "id": "405d5473",
   "metadata": {},
   "outputs": [],
   "source": [
    "model3 = HuberRegressor().fit(xtrain, ytrain)"
   ]
  },
  {
   "cell_type": "code",
   "execution_count": 21,
   "id": "4e38f00e",
   "metadata": {},
   "outputs": [
    {
     "name": "stdout",
     "output_type": "stream",
     "text": [
      "Root Mean Squared Error (RMSE) on Test Set: 220.4873693763684\n",
      "R2 score on Test Set: 0.9573337986102571\n",
      "Mean Squared Error (MSE): 48614.68005451112\n",
      "Mean Absolute Error (MAE): 175.91594546591304\n",
      "Mean Absolute Percentage Error (MAPE) on Test Set: 0.04335806618274287\n"
     ]
    }
   ],
   "source": [
    "predictions = model3.predict(xtest)\n",
    "\n",
    "# Evaluating the model performance\n",
    "rmse = np.sqrt(mean_squared_error(ytest, predictions))\n",
    "print(f\"Root Mean Squared Error (RMSE) on Test Set: {rmse}\")\n",
    "\n",
    "\n",
    "acc = r2_score(ytest, predictions)\n",
    "print(f\"R2 score on Test Set: {acc}\")\n",
    "mse = mean_squared_error(ytest, predictions)\n",
    "print(\"Mean Squared Error (MSE):\", mse)\n",
    "# Mean Absolute Error (MAE)\n",
    "mae = mean_absolute_error(ytest, predictions)\n",
    "print(\"Mean Absolute Error (MAE):\", mae)\n",
    "# Calculate Mean Absolute Percentage Error (MAPE)\n",
    "mape = mean_absolute_percentage_error(ytest, predictions)\n",
    "\n",
    "print(f\"Mean Absolute Percentage Error (MAPE) on Test Set: {mape}\")"
   ]
  },
  {
   "cell_type": "markdown",
   "id": "5902d157",
   "metadata": {},
   "source": [
    "# RANSACRegressor"
   ]
  },
  {
   "cell_type": "code",
   "execution_count": 22,
   "id": "e8ccd139",
   "metadata": {},
   "outputs": [],
   "source": [
    "from sklearn.linear_model import RANSACRegressor"
   ]
  },
  {
   "cell_type": "code",
   "execution_count": 23,
   "id": "40b933ac",
   "metadata": {},
   "outputs": [],
   "source": [
    "\n",
    "model4 = RANSACRegressor().fit(xtrain, ytrain)"
   ]
  },
  {
   "cell_type": "code",
   "execution_count": 24,
   "id": "f54d6f42",
   "metadata": {},
   "outputs": [
    {
     "name": "stdout",
     "output_type": "stream",
     "text": [
      "Root Mean Squared Error (RMSE) on Test Set: 70.49629910886925\n",
      "R2 score on Test Set: 0.9956383663641158\n",
      "Mean Squared Error (MSE): 4969.728188047159\n",
      "Mean Absolute Error (MAE): 49.19376087975428\n",
      "Mean Absolute Percentage Error (MAPE) on Test Set: 0.013062828792044439\n"
     ]
    }
   ],
   "source": [
    "predictions = model4.predict(xtest)\n",
    "\n",
    "# Evaluating the model performance\n",
    "rmse = np.sqrt(mean_squared_error(ytest, predictions))\n",
    "print(f\"Root Mean Squared Error (RMSE) on Test Set: {rmse}\")\n",
    "\n",
    "\n",
    "acc = r2_score(ytest, predictions)\n",
    "print(f\"R2 score on Test Set: {acc}\")\n",
    "mse = mean_squared_error(ytest, predictions)\n",
    "print(\"Mean Squared Error (MSE):\", mse)\n",
    "# Mean Absolute Error (MAE)\n",
    "mae = mean_absolute_error(ytest, predictions)\n",
    "print(\"Mean Absolute Error (MAE):\", mae)\n",
    "# Calculate Mean Absolute Percentage Error (MAPE)\n",
    "mape = mean_absolute_percentage_error(ytest, predictions)\n",
    "\n",
    "print(f\"Mean Absolute Percentage Error (MAPE) on Test Set: {mape}\")"
   ]
  },
  {
   "cell_type": "markdown",
   "id": "91b0f3e9",
   "metadata": {},
   "source": [
    "# XGBRegressor"
   ]
  },
  {
   "cell_type": "code",
   "execution_count": 25,
   "id": "d13630d3",
   "metadata": {},
   "outputs": [],
   "source": [
    "from xgboost import XGBRegressor\n",
    "model5 = XGBRegressor().fit(xtrain, ytrain)"
   ]
  },
  {
   "cell_type": "code",
   "execution_count": 26,
   "id": "88fa7b75",
   "metadata": {},
   "outputs": [
    {
     "name": "stdout",
     "output_type": "stream",
     "text": [
      "Root Mean Squared Error (RMSE) on Test Set: 10.495190511431762\n",
      "R2 score on Test Set: 0.9999033287799055\n",
      "Mean Squared Error (MSE): 110.1490238712473\n",
      "Mean Absolute Error (MAE): 7.788003049752252\n",
      "Mean Absolute Percentage Error (MAPE) on Test Set: 0.0019408006344632592\n"
     ]
    }
   ],
   "source": [
    "predictions = model5.predict(xtest)\n",
    "\n",
    "# Evaluating the model performance\n",
    "rmse = np.sqrt(mean_squared_error(ytest, predictions))\n",
    "print(f\"Root Mean Squared Error (RMSE) on Test Set: {rmse}\")\n",
    "\n",
    "\n",
    "acc = r2_score(ytest, predictions)\n",
    "print(f\"R2 score on Test Set: {acc}\")\n",
    "mse = mean_squared_error(ytest, predictions)\n",
    "print(\"Mean Squared Error (MSE):\", mse)\n",
    "# Mean Absolute Error (MAE)\n",
    "mae = mean_absolute_error(ytest, predictions)\n",
    "print(\"Mean Absolute Error (MAE):\", mae)\n",
    "# Calculate Mean Absolute Percentage Error (MAPE)\n",
    "mape = mean_absolute_percentage_error(ytest, predictions)\n",
    "\n",
    "print(f\"Mean Absolute Percentage Error (MAPE) on Test Set: {mape}\")"
   ]
  },
  {
   "cell_type": "markdown",
   "id": "b02b94dc",
   "metadata": {},
   "source": [
    "# PLSRegression"
   ]
  },
  {
   "cell_type": "code",
   "execution_count": 27,
   "id": "658997e5",
   "metadata": {},
   "outputs": [],
   "source": [
    "from sklearn.cross_decomposition import PLSRegression"
   ]
  },
  {
   "cell_type": "code",
   "execution_count": 28,
   "id": "312d23ee",
   "metadata": {},
   "outputs": [],
   "source": [
    "model6 = PLSRegression(n_components=2).fit(xtrain, ytrain)"
   ]
  },
  {
   "cell_type": "code",
   "execution_count": 29,
   "id": "54734de2",
   "metadata": {},
   "outputs": [
    {
     "name": "stdout",
     "output_type": "stream",
     "text": [
      "Root Mean Squared Error (RMSE) on Test Set: 256.1324310892224\n",
      "R2 score on Test Set: 0.942423443100747\n",
      "Mean Squared Error (MSE): 65603.82225567526\n",
      "Mean Absolute Error (MAE): 210.37600485304935\n",
      "Mean Absolute Percentage Error (MAPE) on Test Set: 0.05218873074509327\n"
     ]
    }
   ],
   "source": [
    "predictions = model6.predict(xtest)\n",
    "\n",
    "# Evaluating the model performance\n",
    "rmse = np.sqrt(mean_squared_error(ytest, predictions))\n",
    "print(f\"Root Mean Squared Error (RMSE) on Test Set: {rmse}\")\n",
    "\n",
    "\n",
    "acc = r2_score(ytest, predictions)\n",
    "print(f\"R2 score on Test Set: {acc}\")\n",
    "mse = mean_squared_error(ytest, predictions)\n",
    "print(\"Mean Squared Error (MSE):\", mse)\n",
    "# Mean Absolute Error (MAE)\n",
    "mae = mean_absolute_error(ytest, predictions)\n",
    "print(\"Mean Absolute Error (MAE):\", mae)\n",
    "# Calculate Mean Absolute Percentage Error (MAPE)\n",
    "mape = mean_absolute_percentage_error(ytest, predictions)\n",
    "\n",
    "print(f\"Mean Absolute Percentage Error (MAPE) on Test Set: {mape}\")"
   ]
  },
  {
   "cell_type": "markdown",
   "id": "63771894",
   "metadata": {},
   "source": [
    "# Extra Tree "
   ]
  },
  {
   "cell_type": "code",
   "execution_count": 30,
   "id": "1a4b9d6b",
   "metadata": {},
   "outputs": [
    {
     "data": {
      "text/html": [
       "<style>#sk-container-id-1 {color: black;background-color: white;}#sk-container-id-1 pre{padding: 0;}#sk-container-id-1 div.sk-toggleable {background-color: white;}#sk-container-id-1 label.sk-toggleable__label {cursor: pointer;display: block;width: 100%;margin-bottom: 0;padding: 0.3em;box-sizing: border-box;text-align: center;}#sk-container-id-1 label.sk-toggleable__label-arrow:before {content: \"▸\";float: left;margin-right: 0.25em;color: #696969;}#sk-container-id-1 label.sk-toggleable__label-arrow:hover:before {color: black;}#sk-container-id-1 div.sk-estimator:hover label.sk-toggleable__label-arrow:before {color: black;}#sk-container-id-1 div.sk-toggleable__content {max-height: 0;max-width: 0;overflow: hidden;text-align: left;background-color: #f0f8ff;}#sk-container-id-1 div.sk-toggleable__content pre {margin: 0.2em;color: black;border-radius: 0.25em;background-color: #f0f8ff;}#sk-container-id-1 input.sk-toggleable__control:checked~div.sk-toggleable__content {max-height: 200px;max-width: 100%;overflow: auto;}#sk-container-id-1 input.sk-toggleable__control:checked~label.sk-toggleable__label-arrow:before {content: \"▾\";}#sk-container-id-1 div.sk-estimator input.sk-toggleable__control:checked~label.sk-toggleable__label {background-color: #d4ebff;}#sk-container-id-1 div.sk-label input.sk-toggleable__control:checked~label.sk-toggleable__label {background-color: #d4ebff;}#sk-container-id-1 input.sk-hidden--visually {border: 0;clip: rect(1px 1px 1px 1px);clip: rect(1px, 1px, 1px, 1px);height: 1px;margin: -1px;overflow: hidden;padding: 0;position: absolute;width: 1px;}#sk-container-id-1 div.sk-estimator {font-family: monospace;background-color: #f0f8ff;border: 1px dotted black;border-radius: 0.25em;box-sizing: border-box;margin-bottom: 0.5em;}#sk-container-id-1 div.sk-estimator:hover {background-color: #d4ebff;}#sk-container-id-1 div.sk-parallel-item::after {content: \"\";width: 100%;border-bottom: 1px solid gray;flex-grow: 1;}#sk-container-id-1 div.sk-label:hover label.sk-toggleable__label {background-color: #d4ebff;}#sk-container-id-1 div.sk-serial::before {content: \"\";position: absolute;border-left: 1px solid gray;box-sizing: border-box;top: 0;bottom: 0;left: 50%;z-index: 0;}#sk-container-id-1 div.sk-serial {display: flex;flex-direction: column;align-items: center;background-color: white;padding-right: 0.2em;padding-left: 0.2em;position: relative;}#sk-container-id-1 div.sk-item {position: relative;z-index: 1;}#sk-container-id-1 div.sk-parallel {display: flex;align-items: stretch;justify-content: center;background-color: white;position: relative;}#sk-container-id-1 div.sk-item::before, #sk-container-id-1 div.sk-parallel-item::before {content: \"\";position: absolute;border-left: 1px solid gray;box-sizing: border-box;top: 0;bottom: 0;left: 50%;z-index: -1;}#sk-container-id-1 div.sk-parallel-item {display: flex;flex-direction: column;z-index: 1;position: relative;background-color: white;}#sk-container-id-1 div.sk-parallel-item:first-child::after {align-self: flex-end;width: 50%;}#sk-container-id-1 div.sk-parallel-item:last-child::after {align-self: flex-start;width: 50%;}#sk-container-id-1 div.sk-parallel-item:only-child::after {width: 0;}#sk-container-id-1 div.sk-dashed-wrapped {border: 1px dashed gray;margin: 0 0.4em 0.5em 0.4em;box-sizing: border-box;padding-bottom: 0.4em;background-color: white;}#sk-container-id-1 div.sk-label label {font-family: monospace;font-weight: bold;display: inline-block;line-height: 1.2em;}#sk-container-id-1 div.sk-label-container {text-align: center;}#sk-container-id-1 div.sk-container {/* jupyter's `normalize.less` sets `[hidden] { display: none; }` but bootstrap.min.css set `[hidden] { display: none !important; }` so we also need the `!important` here to be able to override the default hidden behavior on the sphinx rendered scikit-learn.org. See: https://github.com/scikit-learn/scikit-learn/issues/21755 */display: inline-block !important;position: relative;}#sk-container-id-1 div.sk-text-repr-fallback {display: none;}</style><div id=\"sk-container-id-1\" class=\"sk-top-container\"><div class=\"sk-text-repr-fallback\"><pre>ExtraTreesRegressor(random_state=42)</pre><b>In a Jupyter environment, please rerun this cell to show the HTML representation or trust the notebook. <br />On GitHub, the HTML representation is unable to render, please try loading this page with nbviewer.org.</b></div><div class=\"sk-container\" hidden><div class=\"sk-item\"><div class=\"sk-estimator sk-toggleable\"><input class=\"sk-toggleable__control sk-hidden--visually\" id=\"sk-estimator-id-1\" type=\"checkbox\" checked><label for=\"sk-estimator-id-1\" class=\"sk-toggleable__label sk-toggleable__label-arrow\">ExtraTreesRegressor</label><div class=\"sk-toggleable__content\"><pre>ExtraTreesRegressor(random_state=42)</pre></div></div></div></div></div>"
      ],
      "text/plain": [
       "ExtraTreesRegressor(random_state=42)"
      ]
     },
     "execution_count": 30,
     "metadata": {},
     "output_type": "execute_result"
    }
   ],
   "source": [
    "from sklearn.ensemble import ExtraTreesRegressor\n",
    "model7 = ExtraTreesRegressor(n_estimators=100, random_state=42)\n",
    "model7.fit(xtrain, ytrain)\n"
   ]
  },
  {
   "cell_type": "code",
   "execution_count": 31,
   "id": "e331c938",
   "metadata": {},
   "outputs": [
    {
     "name": "stdout",
     "output_type": "stream",
     "text": [
      "Root Mean Squared Error (RMSE) on Test Set: 3.5997903209694595\n",
      "R2 score on Test Set: 0.9999886271069033\n",
      "Mean Squared Error (MSE): 12.958490354945404\n",
      "Mean Absolute Error (MAE): 1.376045760282539\n",
      "Mean Absolute Percentage Error (MAPE) on Test Set: 0.00036835975203205166\n"
     ]
    }
   ],
   "source": [
    "predictions = model7.predict(xtest)\n",
    "\n",
    "# Evaluating the model performance\n",
    "rmse = np.sqrt(mean_squared_error(ytest, predictions))\n",
    "print(f\"Root Mean Squared Error (RMSE) on Test Set: {rmse}\")\n",
    "\n",
    "\n",
    "acc = r2_score(ytest, predictions)\n",
    "print(f\"R2 score on Test Set: {acc}\")\n",
    "mse = mean_squared_error(ytest, predictions)\n",
    "print(\"Mean Squared Error (MSE):\", mse)\n",
    "# Mean Absolute Error (MAE)\n",
    "mae = mean_absolute_error(ytest, predictions)\n",
    "print(\"Mean Absolute Error (MAE):\", mae)\n",
    "# Calculate Mean Absolute Percentage Error (MAPE)\n",
    "mape = mean_absolute_percentage_error(ytest, predictions)\n",
    "\n",
    "print(f\"Mean Absolute Percentage Error (MAPE) on Test Set: {mape}\")"
   ]
  },
  {
   "cell_type": "markdown",
   "id": "9ceb5c26",
   "metadata": {},
   "source": [
    "# lightgbm"
   ]
  },
  {
   "cell_type": "code",
   "execution_count": 32,
   "id": "46e60e06",
   "metadata": {},
   "outputs": [
    {
     "name": "stdout",
     "output_type": "stream",
     "text": [
      "[LightGBM] [Info] Auto-choosing row-wise multi-threading, the overhead of testing was 0.006558 seconds.\n",
      "You can set `force_row_wise=true` to remove the overhead.\n",
      "And if memory is not enough, you can set `force_col_wise=true`.\n",
      "[LightGBM] [Info] Total Bins 342\n",
      "[LightGBM] [Info] Number of data points in the train set: 36276, number of used features: 8\n",
      "[LightGBM] [Info] Start training from score 4311.513883\n"
     ]
    },
    {
     "data": {
      "text/html": [
       "<style>#sk-container-id-2 {color: black;background-color: white;}#sk-container-id-2 pre{padding: 0;}#sk-container-id-2 div.sk-toggleable {background-color: white;}#sk-container-id-2 label.sk-toggleable__label {cursor: pointer;display: block;width: 100%;margin-bottom: 0;padding: 0.3em;box-sizing: border-box;text-align: center;}#sk-container-id-2 label.sk-toggleable__label-arrow:before {content: \"▸\";float: left;margin-right: 0.25em;color: #696969;}#sk-container-id-2 label.sk-toggleable__label-arrow:hover:before {color: black;}#sk-container-id-2 div.sk-estimator:hover label.sk-toggleable__label-arrow:before {color: black;}#sk-container-id-2 div.sk-toggleable__content {max-height: 0;max-width: 0;overflow: hidden;text-align: left;background-color: #f0f8ff;}#sk-container-id-2 div.sk-toggleable__content pre {margin: 0.2em;color: black;border-radius: 0.25em;background-color: #f0f8ff;}#sk-container-id-2 input.sk-toggleable__control:checked~div.sk-toggleable__content {max-height: 200px;max-width: 100%;overflow: auto;}#sk-container-id-2 input.sk-toggleable__control:checked~label.sk-toggleable__label-arrow:before {content: \"▾\";}#sk-container-id-2 div.sk-estimator input.sk-toggleable__control:checked~label.sk-toggleable__label {background-color: #d4ebff;}#sk-container-id-2 div.sk-label input.sk-toggleable__control:checked~label.sk-toggleable__label {background-color: #d4ebff;}#sk-container-id-2 input.sk-hidden--visually {border: 0;clip: rect(1px 1px 1px 1px);clip: rect(1px, 1px, 1px, 1px);height: 1px;margin: -1px;overflow: hidden;padding: 0;position: absolute;width: 1px;}#sk-container-id-2 div.sk-estimator {font-family: monospace;background-color: #f0f8ff;border: 1px dotted black;border-radius: 0.25em;box-sizing: border-box;margin-bottom: 0.5em;}#sk-container-id-2 div.sk-estimator:hover {background-color: #d4ebff;}#sk-container-id-2 div.sk-parallel-item::after {content: \"\";width: 100%;border-bottom: 1px solid gray;flex-grow: 1;}#sk-container-id-2 div.sk-label:hover label.sk-toggleable__label {background-color: #d4ebff;}#sk-container-id-2 div.sk-serial::before {content: \"\";position: absolute;border-left: 1px solid gray;box-sizing: border-box;top: 0;bottom: 0;left: 50%;z-index: 0;}#sk-container-id-2 div.sk-serial {display: flex;flex-direction: column;align-items: center;background-color: white;padding-right: 0.2em;padding-left: 0.2em;position: relative;}#sk-container-id-2 div.sk-item {position: relative;z-index: 1;}#sk-container-id-2 div.sk-parallel {display: flex;align-items: stretch;justify-content: center;background-color: white;position: relative;}#sk-container-id-2 div.sk-item::before, #sk-container-id-2 div.sk-parallel-item::before {content: \"\";position: absolute;border-left: 1px solid gray;box-sizing: border-box;top: 0;bottom: 0;left: 50%;z-index: -1;}#sk-container-id-2 div.sk-parallel-item {display: flex;flex-direction: column;z-index: 1;position: relative;background-color: white;}#sk-container-id-2 div.sk-parallel-item:first-child::after {align-self: flex-end;width: 50%;}#sk-container-id-2 div.sk-parallel-item:last-child::after {align-self: flex-start;width: 50%;}#sk-container-id-2 div.sk-parallel-item:only-child::after {width: 0;}#sk-container-id-2 div.sk-dashed-wrapped {border: 1px dashed gray;margin: 0 0.4em 0.5em 0.4em;box-sizing: border-box;padding-bottom: 0.4em;background-color: white;}#sk-container-id-2 div.sk-label label {font-family: monospace;font-weight: bold;display: inline-block;line-height: 1.2em;}#sk-container-id-2 div.sk-label-container {text-align: center;}#sk-container-id-2 div.sk-container {/* jupyter's `normalize.less` sets `[hidden] { display: none; }` but bootstrap.min.css set `[hidden] { display: none !important; }` so we also need the `!important` here to be able to override the default hidden behavior on the sphinx rendered scikit-learn.org. See: https://github.com/scikit-learn/scikit-learn/issues/21755 */display: inline-block !important;position: relative;}#sk-container-id-2 div.sk-text-repr-fallback {display: none;}</style><div id=\"sk-container-id-2\" class=\"sk-top-container\"><div class=\"sk-text-repr-fallback\"><pre>LGBMRegressor(random_state=42)</pre><b>In a Jupyter environment, please rerun this cell to show the HTML representation or trust the notebook. <br />On GitHub, the HTML representation is unable to render, please try loading this page with nbviewer.org.</b></div><div class=\"sk-container\" hidden><div class=\"sk-item\"><div class=\"sk-estimator sk-toggleable\"><input class=\"sk-toggleable__control sk-hidden--visually\" id=\"sk-estimator-id-2\" type=\"checkbox\" checked><label for=\"sk-estimator-id-2\" class=\"sk-toggleable__label sk-toggleable__label-arrow\">LGBMRegressor</label><div class=\"sk-toggleable__content\"><pre>LGBMRegressor(random_state=42)</pre></div></div></div></div></div>"
      ],
      "text/plain": [
       "LGBMRegressor(random_state=42)"
      ]
     },
     "execution_count": 32,
     "metadata": {},
     "output_type": "execute_result"
    }
   ],
   "source": [
    "import lightgbm as lgb\n",
    "model8 = lgb.LGBMRegressor(random_state=42)  \n",
    "model8.fit(xtrain, ytrain)"
   ]
  },
  {
   "cell_type": "code",
   "execution_count": 33,
   "id": "fb051dd1",
   "metadata": {},
   "outputs": [
    {
     "name": "stdout",
     "output_type": "stream",
     "text": [
      "Root Mean Squared Error (RMSE) on Test Set: 16.154733978789356\n",
      "R2 score on Test Set: 0.9997709574507435\n",
      "Mean Squared Error (MSE): 260.97542992545135\n",
      "Mean Absolute Error (MAE): 9.71769980602126\n",
      "Mean Absolute Percentage Error (MAPE) on Test Set: 0.002680556094134097\n"
     ]
    }
   ],
   "source": [
    "predictions = model8.predict(xtest)\n",
    "\n",
    "# Evaluating the model performance\n",
    "rmse = np.sqrt(mean_squared_error(ytest, predictions))\n",
    "print(f\"Root Mean Squared Error (RMSE) on Test Set: {rmse}\")\n",
    "\n",
    "\n",
    "acc = r2_score(ytest, predictions)\n",
    "print(f\"R2 score on Test Set: {acc}\")\n",
    "mse = mean_squared_error(ytest, predictions)\n",
    "print(\"Mean Squared Error (MSE):\", mse)\n",
    "# Mean Absolute Error (MAE)\n",
    "mae = mean_absolute_error(ytest, predictions)\n",
    "print(\"Mean Absolute Error (MAE):\", mae)\n",
    "# Calculate Mean Absolute Percentage Error (MAPE)\n",
    "mape = mean_absolute_percentage_error(ytest, predictions)\n",
    "\n",
    "print(f\"Mean Absolute Percentage Error (MAPE) on Test Set: {mape}\")"
   ]
  },
  {
   "cell_type": "code",
   "execution_count": null,
   "id": "7aa21ba3",
   "metadata": {},
   "outputs": [],
   "source": [
    "import pandas as pd\n",
    "import matplotlib.pyplot as plt\n",
    "from sklearn.metrics import r2_score\n",
    "\n",
    "# Assuming model1, model2, ..., model8 are defined and trained somewhere earlier in your code\n",
    "# Assuming ytest and xtest are defined and contain your test data\n",
    "\n",
    "# Create the DataFrame to hold R² scores\n",
    "allacc = pd.DataFrame(columns=[\"R2 Score\"], index=[\"GAM\", \"LARS\", \"HR\",\n",
    "                                                   \"RANS\", \"XGB\",\n",
    "                                                   \"PLS\", \"ET\",\n",
    "                                                   \"LGB\"])\n",
    "\n",
    "# Dictionary of models\n",
    "models = {'GAM': model1, 'LARS': model2, 'HR': model3, 'RANS': model4,\n",
    "          'XGB': model5, 'PLS': model6, 'ET': model7,\n",
    "          'LGB': model8}\n",
    "\n",
    "# Calculate the R² score for each model and store it in the DataFrame\n",
    "for name, model in models.items():\n",
    "    allacc.loc[name, 'R2 Score'] = r2_score(ytest, model.predict(xtest))\n",
    "\n",
    "# Plot the bar plot with only model names on the x-axis\n",
    "allacc.plot(kind='bar', legend=False, figsize=(12, 7), title='Final Models Accuracy')\n",
    "\n",
    "# Set the x-axis label to 'Model'\n",
    "plt.xlabel(\"Model's Name\")\n",
    "\n",
    "# Set the y-axis label to 'R² Score'\n",
    "plt.ylabel('R² Score')\n",
    "\n",
    "# Show the plot\n",
    "plt.show()\n"
   ]
  },
  {
   "cell_type": "code",
   "execution_count": null,
   "id": "f09a9f93",
   "metadata": {},
   "outputs": [],
   "source": []
  },
  {
   "cell_type": "code",
   "execution_count": null,
   "id": "09f17e8a",
   "metadata": {},
   "outputs": [],
   "source": []
  },
  {
   "cell_type": "code",
   "execution_count": null,
   "id": "6a1d7dc3",
   "metadata": {},
   "outputs": [],
   "source": []
  },
  {
   "cell_type": "code",
   "execution_count": null,
   "id": "f11030fb",
   "metadata": {},
   "outputs": [],
   "source": []
  },
  {
   "cell_type": "markdown",
   "id": "db31b8d6",
   "metadata": {},
   "source": [
    "# Feature Selection"
   ]
  },
  {
   "cell_type": "markdown",
   "id": "41d62c8c",
   "metadata": {},
   "source": [
    "# Random Forest Feature Importance"
   ]
  },
  {
   "cell_type": "code",
   "execution_count": null,
   "id": "86794d51",
   "metadata": {},
   "outputs": [],
   "source": [
    "from sklearn.ensemble import RandomForestRegressor"
   ]
  },
  {
   "cell_type": "code",
   "execution_count": null,
   "id": "5e1a154d",
   "metadata": {},
   "outputs": [],
   "source": [
    "model = RandomForestRegressor(n_estimators=1000, random_state=42)\n",
    "model.fit(X, y)"
   ]
  },
  {
   "cell_type": "code",
   "execution_count": 117,
   "id": "ec05acb2",
   "metadata": {},
   "outputs": [
    {
     "data": {
      "text/html": [
       "<div>\n",
       "<style scoped>\n",
       "    .dataframe tbody tr th:only-of-type {\n",
       "        vertical-align: middle;\n",
       "    }\n",
       "\n",
       "    .dataframe tbody tr th {\n",
       "        vertical-align: top;\n",
       "    }\n",
       "\n",
       "    .dataframe thead th {\n",
       "        text-align: right;\n",
       "    }\n",
       "</style>\n",
       "<table border=\"1\" class=\"dataframe\">\n",
       "  <thead>\n",
       "    <tr style=\"text-align: right;\">\n",
       "      <th></th>\n",
       "      <th>Fan</th>\n",
       "      <th>Refrigerator</th>\n",
       "      <th>AirConditioner</th>\n",
       "      <th>Television</th>\n",
       "      <th>Monitor</th>\n",
       "      <th>MotorPump</th>\n",
       "      <th>Month</th>\n",
       "      <th>MonthlyHours</th>\n",
       "      <th>TariffRate</th>\n",
       "    </tr>\n",
       "  </thead>\n",
       "  <tbody>\n",
       "    <tr>\n",
       "      <th>0</th>\n",
       "      <td>16</td>\n",
       "      <td>23.0</td>\n",
       "      <td>2.0</td>\n",
       "      <td>6.0</td>\n",
       "      <td>1.0</td>\n",
       "      <td>0</td>\n",
       "      <td>10</td>\n",
       "      <td>384</td>\n",
       "      <td>8.4</td>\n",
       "    </tr>\n",
       "    <tr>\n",
       "      <th>1</th>\n",
       "      <td>19</td>\n",
       "      <td>22.0</td>\n",
       "      <td>2.0</td>\n",
       "      <td>3.0</td>\n",
       "      <td>1.0</td>\n",
       "      <td>0</td>\n",
       "      <td>5</td>\n",
       "      <td>488</td>\n",
       "      <td>7.8</td>\n",
       "    </tr>\n",
       "    <tr>\n",
       "      <th>2</th>\n",
       "      <td>7</td>\n",
       "      <td>20.0</td>\n",
       "      <td>2.0</td>\n",
       "      <td>6.0</td>\n",
       "      <td>7.0</td>\n",
       "      <td>0</td>\n",
       "      <td>7</td>\n",
       "      <td>416</td>\n",
       "      <td>7.7</td>\n",
       "    </tr>\n",
       "    <tr>\n",
       "      <th>3</th>\n",
       "      <td>7</td>\n",
       "      <td>22.0</td>\n",
       "      <td>3.0</td>\n",
       "      <td>21.0</td>\n",
       "      <td>1.0</td>\n",
       "      <td>0</td>\n",
       "      <td>6</td>\n",
       "      <td>475</td>\n",
       "      <td>9.2</td>\n",
       "    </tr>\n",
       "    <tr>\n",
       "      <th>4</th>\n",
       "      <td>11</td>\n",
       "      <td>23.0</td>\n",
       "      <td>2.0</td>\n",
       "      <td>11.0</td>\n",
       "      <td>1.0</td>\n",
       "      <td>0</td>\n",
       "      <td>2</td>\n",
       "      <td>457</td>\n",
       "      <td>9.2</td>\n",
       "    </tr>\n",
       "  </tbody>\n",
       "</table>\n",
       "</div>"
      ],
      "text/plain": [
       "   Fan  Refrigerator  AirConditioner  Television  Monitor  MotorPump  Month  \\\n",
       "0   16          23.0             2.0         6.0      1.0          0     10   \n",
       "1   19          22.0             2.0         3.0      1.0          0      5   \n",
       "2    7          20.0             2.0         6.0      7.0          0      7   \n",
       "3    7          22.0             3.0        21.0      1.0          0      6   \n",
       "4   11          23.0             2.0        11.0      1.0          0      2   \n",
       "\n",
       "   MonthlyHours  TariffRate  \n",
       "0           384         8.4  \n",
       "1           488         7.8  \n",
       "2           416         7.7  \n",
       "3           475         9.2  \n",
       "4           457         9.2  "
      ]
     },
     "execution_count": 117,
     "metadata": {},
     "output_type": "execute_result"
    }
   ],
   "source": [
    "X.head()"
   ]
  },
  {
   "cell_type": "code",
   "execution_count": 118,
   "id": "b45e4d12",
   "metadata": {},
   "outputs": [],
   "source": [
    "feature_importances = model.feature_importances_"
   ]
  },
  {
   "cell_type": "code",
   "execution_count": 119,
   "id": "60df13ee",
   "metadata": {},
   "outputs": [
    {
     "data": {
      "text/plain": [
       "array([6.23551486e-06, 2.44326623e-06, 2.28048181e-06, 6.30859759e-06,\n",
       "       6.96276762e-07, 0.00000000e+00, 5.93643524e-06, 9.20211810e-01,\n",
       "       7.97642895e-02])"
      ]
     },
     "execution_count": 119,
     "metadata": {},
     "output_type": "execute_result"
    }
   ],
   "source": [
    "feature_importances"
   ]
  },
  {
   "cell_type": "code",
   "execution_count": 125,
   "id": "3d976d63",
   "metadata": {},
   "outputs": [
    {
     "name": "stdout",
     "output_type": "stream",
     "text": [
      "Feature Importances:\n",
      "City: 0.9202118099267715\n",
      "Company: 0.07976428950074613\n",
      "Television: 6.30859758907657e-06\n",
      "Fan: 6.235514858073898e-06\n",
      "Month: 5.93643524034629e-06\n",
      "Refrigerator: 2.443266225201722e-06\n",
      "AirConditioner: 2.280481807403603e-06\n",
      "Monitor: 6.962767621444834e-07\n",
      "MotorPump: 0.0\n"
     ]
    }
   ],
   "source": [
    "# Assuming 'df' is the DataFrame containing the features\n",
    "feature_importance_dict = {}\n",
    "\n",
    "# Replace 'df' with your actual DataFrame variable name\n",
    "for feature, importance in zip(df.columns, feature_importances):\n",
    "    feature_importance_dict[feature] = importance\n",
    "\n",
    "# Sort the feature importances in descending order\n",
    "sorted_feature_importances = sorted(feature_importance_dict.items(), key=lambda x: x[1], reverse=True)\n",
    "\n",
    "# Print the feature importances\n",
    "print(\"Feature Importances:\")\n",
    "for feature, importance in sorted_feature_importances:\n",
    "    print(f\"{feature}: {importance}\")\n"
   ]
  },
  {
   "cell_type": "code",
   "execution_count": 126,
   "id": "30df15d2",
   "metadata": {},
   "outputs": [
    {
     "name": "stdout",
     "output_type": "stream",
     "text": [
      "Feature Importances:\n",
      "MonthlyHours: 0.9202118099267715\n",
      "TariffRate: 0.07976428950074613\n",
      "Television: 6.30859758907657e-06\n",
      "Fan: 6.235514858073898e-06\n",
      "Month: 5.93643524034629e-06\n",
      "Refrigerator: 2.443266225201722e-06\n",
      "AirConditioner: 2.280481807403603e-06\n",
      "Monitor: 6.962767621444834e-07\n",
      "MotorPump: 0.0\n"
     ]
    },
    {
     "data": {
      "text/html": [
       "<div>\n",
       "<style scoped>\n",
       "    .dataframe tbody tr th:only-of-type {\n",
       "        vertical-align: middle;\n",
       "    }\n",
       "\n",
       "    .dataframe tbody tr th {\n",
       "        vertical-align: top;\n",
       "    }\n",
       "\n",
       "    .dataframe thead th {\n",
       "        text-align: right;\n",
       "    }\n",
       "</style>\n",
       "<table border=\"1\" class=\"dataframe\">\n",
       "  <thead>\n",
       "    <tr style=\"text-align: right;\">\n",
       "      <th></th>\n",
       "      <th>MonthlyHours</th>\n",
       "      <th>TariffRate</th>\n",
       "      <th>Television</th>\n",
       "      <th>Fan</th>\n",
       "      <th>Month</th>\n",
       "      <th>Refrigerator</th>\n",
       "      <th>AirConditioner</th>\n",
       "    </tr>\n",
       "  </thead>\n",
       "  <tbody>\n",
       "    <tr>\n",
       "      <th>0</th>\n",
       "      <td>384</td>\n",
       "      <td>8.4</td>\n",
       "      <td>6.0</td>\n",
       "      <td>16</td>\n",
       "      <td>10</td>\n",
       "      <td>23.0</td>\n",
       "      <td>2.0</td>\n",
       "    </tr>\n",
       "    <tr>\n",
       "      <th>1</th>\n",
       "      <td>488</td>\n",
       "      <td>7.8</td>\n",
       "      <td>3.0</td>\n",
       "      <td>19</td>\n",
       "      <td>5</td>\n",
       "      <td>22.0</td>\n",
       "      <td>2.0</td>\n",
       "    </tr>\n",
       "    <tr>\n",
       "      <th>2</th>\n",
       "      <td>416</td>\n",
       "      <td>7.7</td>\n",
       "      <td>6.0</td>\n",
       "      <td>7</td>\n",
       "      <td>7</td>\n",
       "      <td>20.0</td>\n",
       "      <td>2.0</td>\n",
       "    </tr>\n",
       "    <tr>\n",
       "      <th>3</th>\n",
       "      <td>475</td>\n",
       "      <td>9.2</td>\n",
       "      <td>21.0</td>\n",
       "      <td>7</td>\n",
       "      <td>6</td>\n",
       "      <td>22.0</td>\n",
       "      <td>3.0</td>\n",
       "    </tr>\n",
       "    <tr>\n",
       "      <th>4</th>\n",
       "      <td>457</td>\n",
       "      <td>9.2</td>\n",
       "      <td>11.0</td>\n",
       "      <td>11</td>\n",
       "      <td>2</td>\n",
       "      <td>23.0</td>\n",
       "      <td>2.0</td>\n",
       "    </tr>\n",
       "  </tbody>\n",
       "</table>\n",
       "</div>"
      ],
      "text/plain": [
       "   MonthlyHours  TariffRate  Television  Fan  Month  Refrigerator  \\\n",
       "0           384         8.4         6.0   16     10          23.0   \n",
       "1           488         7.8         3.0   19      5          22.0   \n",
       "2           416         7.7         6.0    7      7          20.0   \n",
       "3           475         9.2        21.0    7      6          22.0   \n",
       "4           457         9.2        11.0   11      2          23.0   \n",
       "\n",
       "   AirConditioner  \n",
       "0             2.0  \n",
       "1             2.0  \n",
       "2             2.0  \n",
       "3             3.0  \n",
       "4             2.0  "
      ]
     },
     "execution_count": 126,
     "metadata": {},
     "output_type": "execute_result"
    }
   ],
   "source": [
    "import pandas as pd\n",
    "\n",
    "# Create a dictionary to store feature importance values\n",
    "feature_importance_dict = {}\n",
    "for feature, importance in zip(X.columns, feature_importances):\n",
    "    feature_importance_dict[feature] = importance\n",
    "\n",
    "# Sort the feature importances in descending order\n",
    "sorted_feature_importances = sorted(feature_importance_dict.items(), key=lambda x: x[1], reverse=True)\n",
    "\n",
    "# Print the feature importances\n",
    "print(\"Feature Importances:\")\n",
    "for feature, importance in sorted_feature_importances:\n",
    "    print(f\"{feature}: {importance}\")\n",
    "\n",
    "# Take the top 7 features\n",
    "top_features = [f[0] for f in sorted_feature_importances[:7]]\n",
    "\n",
    "# Create a new dataframe with the top 7 features\n",
    "top_features_df = pd.DataFrame(X[top_features], columns=top_features)\n",
    "\n",
    "\n",
    "top_features_df.head()\n",
    "# cut off values 10'^-6"
   ]
  },
  {
   "cell_type": "code",
   "execution_count": 127,
   "id": "3a5ddbc6",
   "metadata": {},
   "outputs": [],
   "source": [
    "x = top_features_df"
   ]
  },
  {
   "cell_type": "code",
   "execution_count": 128,
   "id": "bcdf094c",
   "metadata": {},
   "outputs": [],
   "source": [
    "from sklearn.model_selection import train_test_split\n",
    "xtrain, xtest, ytrain, ytest = train_test_split(x, y, test_size=0.2, random_state=42)"
   ]
  },
  {
   "cell_type": "markdown",
   "id": "427027ce",
   "metadata": {},
   "source": [
    "# Generalized Additive Models (GAM)"
   ]
  },
  {
   "cell_type": "code",
   "execution_count": 129,
   "id": "9668eabd",
   "metadata": {},
   "outputs": [],
   "source": [
    "model1 = LinearGAM(s(0) + s(1) + s(2)).fit(xtrain, ytrain)"
   ]
  },
  {
   "cell_type": "code",
   "execution_count": 130,
   "id": "af5d5399",
   "metadata": {},
   "outputs": [
    {
     "name": "stdout",
     "output_type": "stream",
     "text": [
      "Root Mean Squared Error (RMSE) on Test Set: 70.53279352693099\n",
      "R2 score on Test Set: 0.99563384934736\n",
      "Mean Squared Error (MSE): 4974.874962712678\n",
      "Mean Absolute Error (MAE): 49.233177552112714\n",
      "Mean Absolute Percentage Error (MAPE) on Test Set: 0.013070466964173319\n"
     ]
    }
   ],
   "source": [
    "predictions = model1.predict(xtest)\n",
    "\n",
    "# Evaluating the model performance\n",
    "rmse = np.sqrt(mean_squared_error(ytest, predictions))\n",
    "print(f\"Root Mean Squared Error (RMSE) on Test Set: {rmse}\")\n",
    "\n",
    "\n",
    "acc = r2_score(ytest, predictions)\n",
    "print(f\"R2 score on Test Set: {acc}\")\n",
    "mse = mean_squared_error(ytest, predictions)\n",
    "print(\"Mean Squared Error (MSE):\", mse)\n",
    "# Mean Absolute Error (MAE)\n",
    "mae = mean_absolute_error(ytest, predictions)\n",
    "print(\"Mean Absolute Error (MAE):\", mae)\n",
    "# Calculate Mean Absolute Percentage Error (MAPE)\n",
    "mape = mean_absolute_percentage_error(ytest, predictions)\n",
    "\n",
    "print(f\"Mean Absolute Percentage Error (MAPE) on Test Set: {mape}\")"
   ]
  },
  {
   "cell_type": "markdown",
   "id": "3ec02f78",
   "metadata": {},
   "source": [
    "# Least Angle Regression (LARS)"
   ]
  },
  {
   "cell_type": "code",
   "execution_count": 131,
   "id": "b4c12373",
   "metadata": {},
   "outputs": [],
   "source": [
    "model2 = Lars().fit(xtrain, ytrain)"
   ]
  },
  {
   "cell_type": "code",
   "execution_count": 132,
   "id": "7a6fbe04",
   "metadata": {},
   "outputs": [
    {
     "name": "stdout",
     "output_type": "stream",
     "text": [
      "Root Mean Squared Error (RMSE) on Test Set: 70.4968576060561\n",
      "R2 score on Test Set: 0.9956382972549627\n",
      "Mean Squared Error (MSE): 4969.806932328549\n",
      "Mean Absolute Error (MAE): 49.19464700300407\n",
      "Mean Absolute Percentage Error (MAPE) on Test Set: 0.013063057309391243\n"
     ]
    }
   ],
   "source": [
    "predictions = model2.predict(xtest)\n",
    "\n",
    "# Evaluating the model performance\n",
    "rmse = np.sqrt(mean_squared_error(ytest, predictions))\n",
    "print(f\"Root Mean Squared Error (RMSE) on Test Set: {rmse}\")\n",
    "\n",
    "\n",
    "acc = r2_score(ytest, predictions)\n",
    "print(f\"R2 score on Test Set: {acc}\")\n",
    "mse = mean_squared_error(ytest, predictions)\n",
    "print(\"Mean Squared Error (MSE):\", mse)\n",
    "# Mean Absolute Error (MAE)\n",
    "mae = mean_absolute_error(ytest, predictions)\n",
    "print(\"Mean Absolute Error (MAE):\", mae)\n",
    "# Calculate Mean Absolute Percentage Error (MAPE)\n",
    "mape = mean_absolute_percentage_error(ytest, predictions)\n",
    "\n",
    "print(f\"Mean Absolute Percentage Error (MAPE) on Test Set: {mape}\")"
   ]
  },
  {
   "cell_type": "markdown",
   "id": "b54761e5",
   "metadata": {},
   "source": [
    "# HuberRegressor"
   ]
  },
  {
   "cell_type": "code",
   "execution_count": 133,
   "id": "4e904cb7",
   "metadata": {},
   "outputs": [],
   "source": [
    "model3 = HuberRegressor().fit(xtrain, ytrain)"
   ]
  },
  {
   "cell_type": "code",
   "execution_count": 134,
   "id": "bdf7e3ea",
   "metadata": {},
   "outputs": [
    {
     "name": "stdout",
     "output_type": "stream",
     "text": [
      "Root Mean Squared Error (RMSE) on Test Set: 220.67292657581507\n",
      "R2 score on Test Set: 0.9572619545653448\n",
      "Mean Squared Error (MSE): 48696.54052353506\n",
      "Mean Absolute Error (MAE): 173.91841959792998\n",
      "Mean Absolute Percentage Error (MAPE) on Test Set: 0.04344952904955605\n"
     ]
    }
   ],
   "source": [
    "predictions = model3.predict(xtest)\n",
    "\n",
    "# Evaluating the model performance\n",
    "rmse = np.sqrt(mean_squared_error(ytest, predictions))\n",
    "print(f\"Root Mean Squared Error (RMSE) on Test Set: {rmse}\")\n",
    "\n",
    "\n",
    "acc = r2_score(ytest, predictions)\n",
    "print(f\"R2 score on Test Set: {acc}\")\n",
    "mse = mean_squared_error(ytest, predictions)\n",
    "print(\"Mean Squared Error (MSE):\", mse)\n",
    "# Mean Absolute Error (MAE)\n",
    "mae = mean_absolute_error(ytest, predictions)\n",
    "print(\"Mean Absolute Error (MAE):\", mae)\n",
    "# Calculate Mean Absolute Percentage Error (MAPE)\n",
    "mape = mean_absolute_percentage_error(ytest, predictions)\n",
    "\n",
    "print(f\"Mean Absolute Percentage Error (MAPE) on Test Set: {mape}\")"
   ]
  },
  {
   "cell_type": "markdown",
   "id": "bc72402b",
   "metadata": {},
   "source": [
    "# RANSACRegressor"
   ]
  },
  {
   "cell_type": "code",
   "execution_count": 135,
   "id": "367c164b",
   "metadata": {},
   "outputs": [],
   "source": [
    "\n",
    "model4 = RANSACRegressor().fit(xtrain, ytrain)"
   ]
  },
  {
   "cell_type": "code",
   "execution_count": 136,
   "id": "cd3072f1",
   "metadata": {},
   "outputs": [
    {
     "name": "stdout",
     "output_type": "stream",
     "text": [
      "Root Mean Squared Error (RMSE) on Test Set: 70.496857606056\n",
      "R2 score on Test Set: 0.9956382972549628\n",
      "Mean Squared Error (MSE): 4969.806932328535\n",
      "Mean Absolute Error (MAE): 49.19464700300355\n",
      "Mean Absolute Percentage Error (MAPE) on Test Set: 0.013063057309391243\n"
     ]
    }
   ],
   "source": [
    "predictions = model4.predict(xtest)\n",
    "\n",
    "# Evaluating the model performance\n",
    "rmse = np.sqrt(mean_squared_error(ytest, predictions))\n",
    "print(f\"Root Mean Squared Error (RMSE) on Test Set: {rmse}\")\n",
    "\n",
    "\n",
    "acc = r2_score(ytest, predictions)\n",
    "print(f\"R2 score on Test Set: {acc}\")\n",
    "mse = mean_squared_error(ytest, predictions)\n",
    "print(\"Mean Squared Error (MSE):\", mse)\n",
    "# Mean Absolute Error (MAE)\n",
    "mae = mean_absolute_error(ytest, predictions)\n",
    "print(\"Mean Absolute Error (MAE):\", mae)\n",
    "# Calculate Mean Absolute Percentage Error (MAPE)\n",
    "mape = mean_absolute_percentage_error(ytest, predictions)\n",
    "\n",
    "print(f\"Mean Absolute Percentage Error (MAPE) on Test Set: {mape}\")"
   ]
  },
  {
   "cell_type": "markdown",
   "id": "33b625a3",
   "metadata": {},
   "source": [
    "# XGBRegressor"
   ]
  },
  {
   "cell_type": "code",
   "execution_count": 137,
   "id": "43240cb0",
   "metadata": {},
   "outputs": [],
   "source": [
    "model5 = XGBRegressor().fit(xtrain, ytrain)"
   ]
  },
  {
   "cell_type": "code",
   "execution_count": 138,
   "id": "862124d8",
   "metadata": {},
   "outputs": [
    {
     "name": "stdout",
     "output_type": "stream",
     "text": [
      "Root Mean Squared Error (RMSE) on Test Set: 10.902148746356616\n",
      "R2 score on Test Set: 0.9998956864433286\n",
      "Mean Squared Error (MSE): 118.85684728768514\n",
      "Mean Absolute Error (MAE): 7.902575227293872\n",
      "Mean Absolute Percentage Error (MAPE) on Test Set: 0.001958240887308514\n"
     ]
    }
   ],
   "source": [
    "predictions = model5.predict(xtest)\n",
    "\n",
    "# Evaluating the model performance\n",
    "rmse = np.sqrt(mean_squared_error(ytest, predictions))\n",
    "print(f\"Root Mean Squared Error (RMSE) on Test Set: {rmse}\")\n",
    "\n",
    "\n",
    "acc = r2_score(ytest, predictions)\n",
    "print(f\"R2 score on Test Set: {acc}\")\n",
    "mse = mean_squared_error(ytest, predictions)\n",
    "print(\"Mean Squared Error (MSE):\", mse)\n",
    "# Mean Absolute Error (MAE)\n",
    "mae = mean_absolute_error(ytest, predictions)\n",
    "print(\"Mean Absolute Error (MAE):\", mae)\n",
    "# Calculate Mean Absolute Percentage Error (MAPE)\n",
    "mape = mean_absolute_percentage_error(ytest, predictions)\n",
    "\n",
    "print(f\"Mean Absolute Percentage Error (MAPE) on Test Set: {mape}\")"
   ]
  },
  {
   "cell_type": "markdown",
   "id": "9fa547eb",
   "metadata": {},
   "source": [
    "# PLSRegression"
   ]
  },
  {
   "cell_type": "code",
   "execution_count": 139,
   "id": "a280a3b3",
   "metadata": {},
   "outputs": [],
   "source": [
    "from sklearn.cross_decomposition import PLSRegression"
   ]
  },
  {
   "cell_type": "code",
   "execution_count": 140,
   "id": "3bf36f96",
   "metadata": {},
   "outputs": [],
   "source": [
    "model6 = PLSRegression(n_components=2).fit(xtrain, ytrain)"
   ]
  },
  {
   "cell_type": "code",
   "execution_count": 141,
   "id": "21c7ce20",
   "metadata": {},
   "outputs": [
    {
     "name": "stdout",
     "output_type": "stream",
     "text": [
      "Root Mean Squared Error (RMSE) on Test Set: 239.2143580112626\n",
      "R2 score on Test Set: 0.9497783434994598\n",
      "Mean Squared Error (MSE): 57223.509078740506\n",
      "Mean Absolute Error (MAE): 193.94280460266123\n",
      "Mean Absolute Percentage Error (MAPE) on Test Set: 0.048442586637766245\n"
     ]
    }
   ],
   "source": [
    "predictions = model6.predict(xtest)\n",
    "\n",
    "# Evaluating the model performance\n",
    "rmse = np.sqrt(mean_squared_error(ytest, predictions))\n",
    "print(f\"Root Mean Squared Error (RMSE) on Test Set: {rmse}\")\n",
    "\n",
    "\n",
    "acc = r2_score(ytest, predictions)\n",
    "print(f\"R2 score on Test Set: {acc}\")\n",
    "mse = mean_squared_error(ytest, predictions)\n",
    "print(\"Mean Squared Error (MSE):\", mse)\n",
    "# Mean Absolute Error (MAE)\n",
    "mae = mean_absolute_error(ytest, predictions)\n",
    "print(\"Mean Absolute Error (MAE):\", mae)\n",
    "# Calculate Mean Absolute Percentage Error (MAPE)\n",
    "mape = mean_absolute_percentage_error(ytest, predictions)\n",
    "\n",
    "print(f\"Mean Absolute Percentage Error (MAPE) on Test Set: {mape}\")"
   ]
  },
  {
   "cell_type": "markdown",
   "id": "76825031",
   "metadata": {},
   "source": [
    "# Extra Tree "
   ]
  },
  {
   "cell_type": "code",
   "execution_count": 142,
   "id": "10899234",
   "metadata": {},
   "outputs": [
    {
     "data": {
      "text/html": [
       "<style>#sk-container-id-7 {color: black;background-color: white;}#sk-container-id-7 pre{padding: 0;}#sk-container-id-7 div.sk-toggleable {background-color: white;}#sk-container-id-7 label.sk-toggleable__label {cursor: pointer;display: block;width: 100%;margin-bottom: 0;padding: 0.3em;box-sizing: border-box;text-align: center;}#sk-container-id-7 label.sk-toggleable__label-arrow:before {content: \"▸\";float: left;margin-right: 0.25em;color: #696969;}#sk-container-id-7 label.sk-toggleable__label-arrow:hover:before {color: black;}#sk-container-id-7 div.sk-estimator:hover label.sk-toggleable__label-arrow:before {color: black;}#sk-container-id-7 div.sk-toggleable__content {max-height: 0;max-width: 0;overflow: hidden;text-align: left;background-color: #f0f8ff;}#sk-container-id-7 div.sk-toggleable__content pre {margin: 0.2em;color: black;border-radius: 0.25em;background-color: #f0f8ff;}#sk-container-id-7 input.sk-toggleable__control:checked~div.sk-toggleable__content {max-height: 200px;max-width: 100%;overflow: auto;}#sk-container-id-7 input.sk-toggleable__control:checked~label.sk-toggleable__label-arrow:before {content: \"▾\";}#sk-container-id-7 div.sk-estimator input.sk-toggleable__control:checked~label.sk-toggleable__label {background-color: #d4ebff;}#sk-container-id-7 div.sk-label input.sk-toggleable__control:checked~label.sk-toggleable__label {background-color: #d4ebff;}#sk-container-id-7 input.sk-hidden--visually {border: 0;clip: rect(1px 1px 1px 1px);clip: rect(1px, 1px, 1px, 1px);height: 1px;margin: -1px;overflow: hidden;padding: 0;position: absolute;width: 1px;}#sk-container-id-7 div.sk-estimator {font-family: monospace;background-color: #f0f8ff;border: 1px dotted black;border-radius: 0.25em;box-sizing: border-box;margin-bottom: 0.5em;}#sk-container-id-7 div.sk-estimator:hover {background-color: #d4ebff;}#sk-container-id-7 div.sk-parallel-item::after {content: \"\";width: 100%;border-bottom: 1px solid gray;flex-grow: 1;}#sk-container-id-7 div.sk-label:hover label.sk-toggleable__label {background-color: #d4ebff;}#sk-container-id-7 div.sk-serial::before {content: \"\";position: absolute;border-left: 1px solid gray;box-sizing: border-box;top: 0;bottom: 0;left: 50%;z-index: 0;}#sk-container-id-7 div.sk-serial {display: flex;flex-direction: column;align-items: center;background-color: white;padding-right: 0.2em;padding-left: 0.2em;position: relative;}#sk-container-id-7 div.sk-item {position: relative;z-index: 1;}#sk-container-id-7 div.sk-parallel {display: flex;align-items: stretch;justify-content: center;background-color: white;position: relative;}#sk-container-id-7 div.sk-item::before, #sk-container-id-7 div.sk-parallel-item::before {content: \"\";position: absolute;border-left: 1px solid gray;box-sizing: border-box;top: 0;bottom: 0;left: 50%;z-index: -1;}#sk-container-id-7 div.sk-parallel-item {display: flex;flex-direction: column;z-index: 1;position: relative;background-color: white;}#sk-container-id-7 div.sk-parallel-item:first-child::after {align-self: flex-end;width: 50%;}#sk-container-id-7 div.sk-parallel-item:last-child::after {align-self: flex-start;width: 50%;}#sk-container-id-7 div.sk-parallel-item:only-child::after {width: 0;}#sk-container-id-7 div.sk-dashed-wrapped {border: 1px dashed gray;margin: 0 0.4em 0.5em 0.4em;box-sizing: border-box;padding-bottom: 0.4em;background-color: white;}#sk-container-id-7 div.sk-label label {font-family: monospace;font-weight: bold;display: inline-block;line-height: 1.2em;}#sk-container-id-7 div.sk-label-container {text-align: center;}#sk-container-id-7 div.sk-container {/* jupyter's `normalize.less` sets `[hidden] { display: none; }` but bootstrap.min.css set `[hidden] { display: none !important; }` so we also need the `!important` here to be able to override the default hidden behavior on the sphinx rendered scikit-learn.org. See: https://github.com/scikit-learn/scikit-learn/issues/21755 */display: inline-block !important;position: relative;}#sk-container-id-7 div.sk-text-repr-fallback {display: none;}</style><div id=\"sk-container-id-7\" class=\"sk-top-container\"><div class=\"sk-text-repr-fallback\"><pre>ExtraTreesRegressor(random_state=42)</pre><b>In a Jupyter environment, please rerun this cell to show the HTML representation or trust the notebook. <br />On GitHub, the HTML representation is unable to render, please try loading this page with nbviewer.org.</b></div><div class=\"sk-container\" hidden><div class=\"sk-item\"><div class=\"sk-estimator sk-toggleable\"><input class=\"sk-toggleable__control sk-hidden--visually\" id=\"sk-estimator-id-7\" type=\"checkbox\" checked><label for=\"sk-estimator-id-7\" class=\"sk-toggleable__label sk-toggleable__label-arrow\">ExtraTreesRegressor</label><div class=\"sk-toggleable__content\"><pre>ExtraTreesRegressor(random_state=42)</pre></div></div></div></div></div>"
      ],
      "text/plain": [
       "ExtraTreesRegressor(random_state=42)"
      ]
     },
     "execution_count": 142,
     "metadata": {},
     "output_type": "execute_result"
    }
   ],
   "source": [
    "model7 = ExtraTreesRegressor(n_estimators=100, random_state=42)\n",
    "model7.fit(xtrain, ytrain)\n"
   ]
  },
  {
   "cell_type": "code",
   "execution_count": 143,
   "id": "99774083",
   "metadata": {},
   "outputs": [
    {
     "name": "stdout",
     "output_type": "stream",
     "text": [
      "Root Mean Squared Error (RMSE) on Test Set: 3.44886124427128\n",
      "R2 score on Test Set: 0.9999895607814189\n",
      "Mean Squared Error (MSE): 11.894643882236442\n",
      "Mean Absolute Error (MAE): 1.3595818723125181\n",
      "Mean Absolute Percentage Error (MAPE) on Test Set: 0.000366843826498996\n"
     ]
    }
   ],
   "source": [
    "predictions = model7.predict(xtest)\n",
    "\n",
    "# Evaluating the model performance\n",
    "rmse = np.sqrt(mean_squared_error(ytest, predictions))\n",
    "print(f\"Root Mean Squared Error (RMSE) on Test Set: {rmse}\")\n",
    "\n",
    "\n",
    "acc = r2_score(ytest, predictions)\n",
    "print(f\"R2 score on Test Set: {acc}\")\n",
    "mse = mean_squared_error(ytest, predictions)\n",
    "print(\"Mean Squared Error (MSE):\", mse)\n",
    "# Mean Absolute Error (MAE)\n",
    "mae = mean_absolute_error(ytest, predictions)\n",
    "print(\"Mean Absolute Error (MAE):\", mae)\n",
    "# Calculate Mean Absolute Percentage Error (MAPE)\n",
    "mape = mean_absolute_percentage_error(ytest, predictions)\n",
    "\n",
    "print(f\"Mean Absolute Percentage Error (MAPE) on Test Set: {mape}\")"
   ]
  },
  {
   "cell_type": "markdown",
   "id": "e6996159",
   "metadata": {},
   "source": [
    "# lightgbm"
   ]
  },
  {
   "cell_type": "code",
   "execution_count": 144,
   "id": "760c271b",
   "metadata": {},
   "outputs": [
    {
     "name": "stdout",
     "output_type": "stream",
     "text": [
      "[LightGBM] [Info] Auto-choosing col-wise multi-threading, the overhead of testing was 0.030697 seconds.\n",
      "You can set `force_col_wise=true` to remove the overhead.\n",
      "[LightGBM] [Info] Total Bins 338\n",
      "[LightGBM] [Info] Number of data points in the train set: 36276, number of used features: 7\n",
      "[LightGBM] [Info] Start training from score 4311.513883\n"
     ]
    },
    {
     "data": {
      "text/html": [
       "<style>#sk-container-id-8 {color: black;background-color: white;}#sk-container-id-8 pre{padding: 0;}#sk-container-id-8 div.sk-toggleable {background-color: white;}#sk-container-id-8 label.sk-toggleable__label {cursor: pointer;display: block;width: 100%;margin-bottom: 0;padding: 0.3em;box-sizing: border-box;text-align: center;}#sk-container-id-8 label.sk-toggleable__label-arrow:before {content: \"▸\";float: left;margin-right: 0.25em;color: #696969;}#sk-container-id-8 label.sk-toggleable__label-arrow:hover:before {color: black;}#sk-container-id-8 div.sk-estimator:hover label.sk-toggleable__label-arrow:before {color: black;}#sk-container-id-8 div.sk-toggleable__content {max-height: 0;max-width: 0;overflow: hidden;text-align: left;background-color: #f0f8ff;}#sk-container-id-8 div.sk-toggleable__content pre {margin: 0.2em;color: black;border-radius: 0.25em;background-color: #f0f8ff;}#sk-container-id-8 input.sk-toggleable__control:checked~div.sk-toggleable__content {max-height: 200px;max-width: 100%;overflow: auto;}#sk-container-id-8 input.sk-toggleable__control:checked~label.sk-toggleable__label-arrow:before {content: \"▾\";}#sk-container-id-8 div.sk-estimator input.sk-toggleable__control:checked~label.sk-toggleable__label {background-color: #d4ebff;}#sk-container-id-8 div.sk-label input.sk-toggleable__control:checked~label.sk-toggleable__label {background-color: #d4ebff;}#sk-container-id-8 input.sk-hidden--visually {border: 0;clip: rect(1px 1px 1px 1px);clip: rect(1px, 1px, 1px, 1px);height: 1px;margin: -1px;overflow: hidden;padding: 0;position: absolute;width: 1px;}#sk-container-id-8 div.sk-estimator {font-family: monospace;background-color: #f0f8ff;border: 1px dotted black;border-radius: 0.25em;box-sizing: border-box;margin-bottom: 0.5em;}#sk-container-id-8 div.sk-estimator:hover {background-color: #d4ebff;}#sk-container-id-8 div.sk-parallel-item::after {content: \"\";width: 100%;border-bottom: 1px solid gray;flex-grow: 1;}#sk-container-id-8 div.sk-label:hover label.sk-toggleable__label {background-color: #d4ebff;}#sk-container-id-8 div.sk-serial::before {content: \"\";position: absolute;border-left: 1px solid gray;box-sizing: border-box;top: 0;bottom: 0;left: 50%;z-index: 0;}#sk-container-id-8 div.sk-serial {display: flex;flex-direction: column;align-items: center;background-color: white;padding-right: 0.2em;padding-left: 0.2em;position: relative;}#sk-container-id-8 div.sk-item {position: relative;z-index: 1;}#sk-container-id-8 div.sk-parallel {display: flex;align-items: stretch;justify-content: center;background-color: white;position: relative;}#sk-container-id-8 div.sk-item::before, #sk-container-id-8 div.sk-parallel-item::before {content: \"\";position: absolute;border-left: 1px solid gray;box-sizing: border-box;top: 0;bottom: 0;left: 50%;z-index: -1;}#sk-container-id-8 div.sk-parallel-item {display: flex;flex-direction: column;z-index: 1;position: relative;background-color: white;}#sk-container-id-8 div.sk-parallel-item:first-child::after {align-self: flex-end;width: 50%;}#sk-container-id-8 div.sk-parallel-item:last-child::after {align-self: flex-start;width: 50%;}#sk-container-id-8 div.sk-parallel-item:only-child::after {width: 0;}#sk-container-id-8 div.sk-dashed-wrapped {border: 1px dashed gray;margin: 0 0.4em 0.5em 0.4em;box-sizing: border-box;padding-bottom: 0.4em;background-color: white;}#sk-container-id-8 div.sk-label label {font-family: monospace;font-weight: bold;display: inline-block;line-height: 1.2em;}#sk-container-id-8 div.sk-label-container {text-align: center;}#sk-container-id-8 div.sk-container {/* jupyter's `normalize.less` sets `[hidden] { display: none; }` but bootstrap.min.css set `[hidden] { display: none !important; }` so we also need the `!important` here to be able to override the default hidden behavior on the sphinx rendered scikit-learn.org. See: https://github.com/scikit-learn/scikit-learn/issues/21755 */display: inline-block !important;position: relative;}#sk-container-id-8 div.sk-text-repr-fallback {display: none;}</style><div id=\"sk-container-id-8\" class=\"sk-top-container\"><div class=\"sk-text-repr-fallback\"><pre>LGBMRegressor(random_state=42)</pre><b>In a Jupyter environment, please rerun this cell to show the HTML representation or trust the notebook. <br />On GitHub, the HTML representation is unable to render, please try loading this page with nbviewer.org.</b></div><div class=\"sk-container\" hidden><div class=\"sk-item\"><div class=\"sk-estimator sk-toggleable\"><input class=\"sk-toggleable__control sk-hidden--visually\" id=\"sk-estimator-id-8\" type=\"checkbox\" checked><label for=\"sk-estimator-id-8\" class=\"sk-toggleable__label sk-toggleable__label-arrow\">LGBMRegressor</label><div class=\"sk-toggleable__content\"><pre>LGBMRegressor(random_state=42)</pre></div></div></div></div></div>"
      ],
      "text/plain": [
       "LGBMRegressor(random_state=42)"
      ]
     },
     "execution_count": 144,
     "metadata": {},
     "output_type": "execute_result"
    }
   ],
   "source": [
    "model8 = lgb.LGBMRegressor(random_state=42)  \n",
    "model8.fit(xtrain, ytrain)"
   ]
  },
  {
   "cell_type": "code",
   "execution_count": 145,
   "id": "cc0dfea8",
   "metadata": {},
   "outputs": [
    {
     "name": "stdout",
     "output_type": "stream",
     "text": [
      "Root Mean Squared Error (RMSE) on Test Set: 16.164563590524466\n",
      "R2 score on Test Set: 0.999770678636585\n",
      "Mean Squared Error (MSE): 261.2931160721092\n",
      "Mean Absolute Error (MAE): 9.747651144136343\n",
      "Mean Absolute Percentage Error (MAPE) on Test Set: 0.00269146086430387\n"
     ]
    }
   ],
   "source": [
    "predictions = model8.predict(xtest)\n",
    "\n",
    "# Evaluating the model performance\n",
    "rmse = np.sqrt(mean_squared_error(ytest, predictions))\n",
    "print(f\"Root Mean Squared Error (RMSE) on Test Set: {rmse}\")\n",
    "\n",
    "\n",
    "acc = r2_score(ytest, predictions)\n",
    "print(f\"R2 score on Test Set: {acc}\")\n",
    "mse = mean_squared_error(ytest, predictions)\n",
    "print(\"Mean Squared Error (MSE):\", mse)\n",
    "# Mean Absolute Error (MAE)\n",
    "mae = mean_absolute_error(ytest, predictions)\n",
    "print(\"Mean Absolute Error (MAE):\", mae)\n",
    "# Calculate Mean Absolute Percentage Error (MAPE)\n",
    "mape = mean_absolute_percentage_error(ytest, predictions)\n",
    "\n",
    "print(f\"Mean Absolute Percentage Error (MAPE) on Test Set: {mape}\")"
   ]
  },
  {
   "cell_type": "code",
   "execution_count": null,
   "id": "cea68999",
   "metadata": {},
   "outputs": [],
   "source": [
    "allacc = pd.DataFrame(columns=[\"Accuracy\"], index=[\"GAM\", \"LARS\",\n",
    "                                                  \"HuberRegressor\",\"RANSACRegressor\",\"XGBRegressor\",\"PLSRegression\",\"ExtraTreesRegressor\",\"lightgbm\"])\n",
    "models = {'GAM' : model1, 'LARS' : model2, 'HuberRegressor' : model3, 'RANSACRegressor' : model4, 'XGBRegressor': model5,\n",
    "         'PLSRegression': model6, 'ExtraTreesRegressor': model7, 'lightgbm': model8}\n",
    "\n",
    "for name, model in models.items() :\n",
    "  allacc.loc[name, 'Accuracy'] = r2_score(ytest, y_pred = model.predict(xtest))"
   ]
  },
  {
   "cell_type": "code",
   "execution_count": null,
   "id": "13f5a152",
   "metadata": {},
   "outputs": [],
   "source": [
    "allacc.unstack().plot(kind = 'bar', stacked = True, figsize = (12, 7), title = 'Final models accuracy')"
   ]
  },
  {
   "cell_type": "code",
   "execution_count": null,
   "id": "e90aa62c",
   "metadata": {},
   "outputs": [],
   "source": []
  },
  {
   "cell_type": "code",
   "execution_count": 146,
   "id": "678969ad",
   "metadata": {},
   "outputs": [
    {
     "data": {
      "image/png": "[encoded data removed]",
      "text/plain": [
       "<Figure size 864x504 with 1 Axes>"
      ]
     },
     "metadata": {
      "needs_background": "light"
     },
     "output_type": "display_data"
    }
   ],
   "source": [
    "import pandas as pd\n",
    "import matplotlib.pyplot as plt\n",
    "from sklearn.metrics import r2_score\n",
    "\n",
    "# Assuming model1, model2, ..., model8 are defined and trained somewhere earlier in your code\n",
    "# Assuming ytest and xtest are defined and contain your test data\n",
    "\n",
    "# Create the DataFrame to hold R² scores\n",
    "allacc = pd.DataFrame(columns=[\"R2 Score\"], index=[\"GAM\", \"LARS\", \"HR\",\n",
    "                                                   \"RANS\", \"XGB\",\n",
    "                                                   \"PLS\", \"ET\",\n",
    "                                                   \"LGB\"])\n",
    "\n",
    "# Dictionary of models\n",
    "models = {'GAM': model1, 'LARS': model2, 'HR': model3, 'RANS': model4,\n",
    "          'XGB': model5, 'PLS': model6, 'ET': model7,\n",
    "          'LGB': model8}\n",
    "\n",
    "# Calculate the R² score for each model and store it in the DataFrame\n",
    "for name, model in models.items():\n",
    "    allacc.loc[name, 'R2 Score'] = r2_score(ytest, model.predict(xtest))\n",
    "\n",
    "# Plot the bar plot with only model names on the x-axis\n",
    "allacc.plot(kind='bar', legend=False, figsize=(12, 7), title='Final Models Accuracy')\n",
    "\n",
    "# Set the x-axis label to 'Model'\n",
    "plt.xlabel(\"Model's Name\")\n",
    "\n",
    "# Set the y-axis label to 'R² Score'\n",
    "plt.ylabel('R² Score')\n",
    "\n",
    "# Show the plot\n",
    "plt.show()\n"
   ]
  },
  {
   "cell_type": "markdown",
   "id": "558b52db",
   "metadata": {},
   "source": [
    "# LASSO"
   ]
  },
  {
   "cell_type": "code",
   "execution_count": 94,
   "id": "e78c9a51",
   "metadata": {},
   "outputs": [],
   "source": [
    "from sklearn.linear_model import Lasso"
   ]
  },
  {
   "cell_type": "code",
   "execution_count": 95,
   "id": "f00741f6",
   "metadata": {},
   "outputs": [
    {
     "name": "stdout",
     "output_type": "stream",
     "text": [
      "Coefficients of all features:\n",
      "Feature 0 (Column 'Fan'): -0.008268974764121346\n",
      "Feature 1 (Column 'Refrigerator'): 0.3897802034009638\n",
      "Feature 2 (Column 'AirConditioner'): 0.08941421316595888\n",
      "Feature 3 (Column 'Television'): -0.08089633835804641\n",
      "Feature 4 (Column 'Monitor'): 0.04548805406941919\n",
      "Feature 5 (Column 'MotorPump'): 0.0\n",
      "Feature 6 (Column 'Month'): -0.010563934421781496\n",
      "Feature 7 (Column 'MonthlyHours'): 8.371138361391733\n",
      "Feature 8 (Column 'TariffRate'): 514.6699369129102\n",
      "\n",
      "Indices of the selected features:\n",
      "[8 7 1 2 3 4 6]\n",
      "\n",
      "DataFrame with the selected features:\n"
     ]
    },
    {
     "data": {
      "text/html": [
       "<div>\n",
       "<style scoped>\n",
       "    .dataframe tbody tr th:only-of-type {\n",
       "        vertical-align: middle;\n",
       "    }\n",
       "\n",
       "    .dataframe tbody tr th {\n",
       "        vertical-align: top;\n",
       "    }\n",
       "\n",
       "    .dataframe thead th {\n",
       "        text-align: right;\n",
       "    }\n",
       "</style>\n",
       "<table border=\"1\" class=\"dataframe\">\n",
       "  <thead>\n",
       "    <tr style=\"text-align: right;\">\n",
       "      <th></th>\n",
       "      <th>TariffRate</th>\n",
       "      <th>MonthlyHours</th>\n",
       "      <th>Refrigerator</th>\n",
       "      <th>AirConditioner</th>\n",
       "      <th>Television</th>\n",
       "      <th>Monitor</th>\n",
       "      <th>Month</th>\n",
       "    </tr>\n",
       "  </thead>\n",
       "  <tbody>\n",
       "    <tr>\n",
       "      <th>0</th>\n",
       "      <td>8.4</td>\n",
       "      <td>384</td>\n",
       "      <td>23.0</td>\n",
       "      <td>2.0</td>\n",
       "      <td>6.0</td>\n",
       "      <td>1.0</td>\n",
       "      <td>10</td>\n",
       "    </tr>\n",
       "    <tr>\n",
       "      <th>1</th>\n",
       "      <td>7.8</td>\n",
       "      <td>488</td>\n",
       "      <td>22.0</td>\n",
       "      <td>2.0</td>\n",
       "      <td>3.0</td>\n",
       "      <td>1.0</td>\n",
       "      <td>5</td>\n",
       "    </tr>\n",
       "    <tr>\n",
       "      <th>2</th>\n",
       "      <td>7.7</td>\n",
       "      <td>416</td>\n",
       "      <td>20.0</td>\n",
       "      <td>2.0</td>\n",
       "      <td>6.0</td>\n",
       "      <td>7.0</td>\n",
       "      <td>7</td>\n",
       "    </tr>\n",
       "    <tr>\n",
       "      <th>3</th>\n",
       "      <td>9.2</td>\n",
       "      <td>475</td>\n",
       "      <td>22.0</td>\n",
       "      <td>3.0</td>\n",
       "      <td>21.0</td>\n",
       "      <td>1.0</td>\n",
       "      <td>6</td>\n",
       "    </tr>\n",
       "    <tr>\n",
       "      <th>4</th>\n",
       "      <td>9.2</td>\n",
       "      <td>457</td>\n",
       "      <td>23.0</td>\n",
       "      <td>2.0</td>\n",
       "      <td>11.0</td>\n",
       "      <td>1.0</td>\n",
       "      <td>2</td>\n",
       "    </tr>\n",
       "  </tbody>\n",
       "</table>\n",
       "</div>"
      ],
      "text/plain": [
       "   TariffRate  MonthlyHours  Refrigerator  AirConditioner  Television  \\\n",
       "0         8.4           384          23.0             2.0         6.0   \n",
       "1         7.8           488          22.0             2.0         3.0   \n",
       "2         7.7           416          20.0             2.0         6.0   \n",
       "3         9.2           475          22.0             3.0        21.0   \n",
       "4         9.2           457          23.0             2.0        11.0   \n",
       "\n",
       "   Monitor  Month  \n",
       "0      1.0     10  \n",
       "1      1.0      5  \n",
       "2      7.0      7  \n",
       "3      1.0      6  \n",
       "4      1.0      2  "
      ]
     },
     "execution_count": 95,
     "metadata": {},
     "output_type": "execute_result"
    }
   ],
   "source": [
    "import pandas as pd\n",
    "\n",
    "# Generate some example data\n",
    "# X, y = make_regression(n_samples=100, n_features=10, noise=0.1, random_state=42)\n",
    "\n",
    "# Initialize Lasso regression model\n",
    "lasso = Lasso(alpha=0.1)  # Alpha is the regularization strength\n",
    "\n",
    "# Fit the model\n",
    "lasso.fit(X, y)\n",
    "\n",
    "# Print coefficients of all features\n",
    "print(\"Coefficients of all features:\")\n",
    "for feature, coefficient in enumerate(lasso.coef_):\n",
    "    print(f\"Feature {feature} (Column '{X.columns[feature]}'): {coefficient}\")\n",
    "    \n",
    "# Create a DataFrame with all feature values\n",
    "df_all_features = pd.DataFrame(X, columns=X.columns)\n",
    "\n",
    "# Select the best 7 features based on their absolute coefficient values\n",
    "selected_indices = np.argsort(np.abs(lasso.coef_))[::-1][:7]\n",
    "selected_features = df_all_features.iloc[:, selected_indices]\n",
    "\n",
    "# Print the indices of the selected features\n",
    "print(\"\\nIndices of the selected features:\")\n",
    "print(selected_indices)\n",
    "\n",
    "# Print the DataFrame with the selected features\n",
    "print(\"\\nDataFrame with the selected features:\")\n",
    "selected_features.head()\n",
    "# cut off values  0.0"
   ]
  },
  {
   "cell_type": "code",
   "execution_count": 96,
   "id": "e8405646",
   "metadata": {},
   "outputs": [],
   "source": [
    "x= selected_features"
   ]
  },
  {
   "cell_type": "code",
   "execution_count": 97,
   "id": "b0caa43e",
   "metadata": {},
   "outputs": [
    {
     "data": {
      "text/html": [
       "<div>\n",
       "<style scoped>\n",
       "    .dataframe tbody tr th:only-of-type {\n",
       "        vertical-align: middle;\n",
       "    }\n",
       "\n",
       "    .dataframe tbody tr th {\n",
       "        vertical-align: top;\n",
       "    }\n",
       "\n",
       "    .dataframe thead th {\n",
       "        text-align: right;\n",
       "    }\n",
       "</style>\n",
       "<table border=\"1\" class=\"dataframe\">\n",
       "  <thead>\n",
       "    <tr style=\"text-align: right;\">\n",
       "      <th></th>\n",
       "      <th>TariffRate</th>\n",
       "      <th>MonthlyHours</th>\n",
       "      <th>Refrigerator</th>\n",
       "      <th>AirConditioner</th>\n",
       "      <th>Television</th>\n",
       "      <th>Monitor</th>\n",
       "      <th>Month</th>\n",
       "    </tr>\n",
       "  </thead>\n",
       "  <tbody>\n",
       "    <tr>\n",
       "      <th>0</th>\n",
       "      <td>8.4</td>\n",
       "      <td>384</td>\n",
       "      <td>23.0</td>\n",
       "      <td>2.0</td>\n",
       "      <td>6.0</td>\n",
       "      <td>1.0</td>\n",
       "      <td>10</td>\n",
       "    </tr>\n",
       "    <tr>\n",
       "      <th>1</th>\n",
       "      <td>7.8</td>\n",
       "      <td>488</td>\n",
       "      <td>22.0</td>\n",
       "      <td>2.0</td>\n",
       "      <td>3.0</td>\n",
       "      <td>1.0</td>\n",
       "      <td>5</td>\n",
       "    </tr>\n",
       "    <tr>\n",
       "      <th>2</th>\n",
       "      <td>7.7</td>\n",
       "      <td>416</td>\n",
       "      <td>20.0</td>\n",
       "      <td>2.0</td>\n",
       "      <td>6.0</td>\n",
       "      <td>7.0</td>\n",
       "      <td>7</td>\n",
       "    </tr>\n",
       "    <tr>\n",
       "      <th>3</th>\n",
       "      <td>9.2</td>\n",
       "      <td>475</td>\n",
       "      <td>22.0</td>\n",
       "      <td>3.0</td>\n",
       "      <td>21.0</td>\n",
       "      <td>1.0</td>\n",
       "      <td>6</td>\n",
       "    </tr>\n",
       "    <tr>\n",
       "      <th>4</th>\n",
       "      <td>9.2</td>\n",
       "      <td>457</td>\n",
       "      <td>23.0</td>\n",
       "      <td>2.0</td>\n",
       "      <td>11.0</td>\n",
       "      <td>1.0</td>\n",
       "      <td>2</td>\n",
       "    </tr>\n",
       "  </tbody>\n",
       "</table>\n",
       "</div>"
      ],
      "text/plain": [
       "   TariffRate  MonthlyHours  Refrigerator  AirConditioner  Television  \\\n",
       "0         8.4           384          23.0             2.0         6.0   \n",
       "1         7.8           488          22.0             2.0         3.0   \n",
       "2         7.7           416          20.0             2.0         6.0   \n",
       "3         9.2           475          22.0             3.0        21.0   \n",
       "4         9.2           457          23.0             2.0        11.0   \n",
       "\n",
       "   Monitor  Month  \n",
       "0      1.0     10  \n",
       "1      1.0      5  \n",
       "2      7.0      7  \n",
       "3      1.0      6  \n",
       "4      1.0      2  "
      ]
     },
     "execution_count": 97,
     "metadata": {},
     "output_type": "execute_result"
    }
   ],
   "source": [
    "x.head()"
   ]
  },
  {
   "cell_type": "code",
   "execution_count": 98,
   "id": "713d45f7",
   "metadata": {},
   "outputs": [],
   "source": [
    "from sklearn.model_selection import train_test_split\n",
    "xtrain, xtest, ytrain, ytest = train_test_split(x, y, test_size=0.2, random_state=42)"
   ]
  },
  {
   "cell_type": "code",
   "execution_count": 99,
   "id": "edd00830",
   "metadata": {},
   "outputs": [
    {
     "data": {
      "text/html": [
       "<div>\n",
       "<style scoped>\n",
       "    .dataframe tbody tr th:only-of-type {\n",
       "        vertical-align: middle;\n",
       "    }\n",
       "\n",
       "    .dataframe tbody tr th {\n",
       "        vertical-align: top;\n",
       "    }\n",
       "\n",
       "    .dataframe thead th {\n",
       "        text-align: right;\n",
       "    }\n",
       "</style>\n",
       "<table border=\"1\" class=\"dataframe\">\n",
       "  <thead>\n",
       "    <tr style=\"text-align: right;\">\n",
       "      <th></th>\n",
       "      <th>TariffRate</th>\n",
       "      <th>MonthlyHours</th>\n",
       "      <th>Refrigerator</th>\n",
       "      <th>AirConditioner</th>\n",
       "      <th>Television</th>\n",
       "      <th>Monitor</th>\n",
       "      <th>Month</th>\n",
       "    </tr>\n",
       "  </thead>\n",
       "  <tbody>\n",
       "    <tr>\n",
       "      <th>12362</th>\n",
       "      <td>8.3</td>\n",
       "      <td>512</td>\n",
       "      <td>22.0</td>\n",
       "      <td>1.0</td>\n",
       "      <td>12.0</td>\n",
       "      <td>1.0</td>\n",
       "      <td>9</td>\n",
       "    </tr>\n",
       "    <tr>\n",
       "      <th>26357</th>\n",
       "      <td>8.2</td>\n",
       "      <td>577</td>\n",
       "      <td>23.0</td>\n",
       "      <td>3.0</td>\n",
       "      <td>11.0</td>\n",
       "      <td>12.0</td>\n",
       "      <td>2</td>\n",
       "    </tr>\n",
       "    <tr>\n",
       "      <th>22319</th>\n",
       "      <td>9.1</td>\n",
       "      <td>514</td>\n",
       "      <td>22.0</td>\n",
       "      <td>1.0</td>\n",
       "      <td>12.0</td>\n",
       "      <td>12.0</td>\n",
       "      <td>1</td>\n",
       "    </tr>\n",
       "    <tr>\n",
       "      <th>32505</th>\n",
       "      <td>7.7</td>\n",
       "      <td>565</td>\n",
       "      <td>22.0</td>\n",
       "      <td>1.0</td>\n",
       "      <td>3.0</td>\n",
       "      <td>1.0</td>\n",
       "      <td>10</td>\n",
       "    </tr>\n",
       "    <tr>\n",
       "      <th>43651</th>\n",
       "      <td>7.4</td>\n",
       "      <td>429</td>\n",
       "      <td>20.0</td>\n",
       "      <td>2.0</td>\n",
       "      <td>20.0</td>\n",
       "      <td>7.0</td>\n",
       "      <td>4</td>\n",
       "    </tr>\n",
       "  </tbody>\n",
       "</table>\n",
       "</div>"
      ],
      "text/plain": [
       "       TariffRate  MonthlyHours  Refrigerator  AirConditioner  Television  \\\n",
       "12362         8.3           512          22.0             1.0        12.0   \n",
       "26357         8.2           577          23.0             3.0        11.0   \n",
       "22319         9.1           514          22.0             1.0        12.0   \n",
       "32505         7.7           565          22.0             1.0         3.0   \n",
       "43651         7.4           429          20.0             2.0        20.0   \n",
       "\n",
       "       Monitor  Month  \n",
       "12362      1.0      9  \n",
       "26357     12.0      2  \n",
       "22319     12.0      1  \n",
       "32505      1.0     10  \n",
       "43651      7.0      4  "
      ]
     },
     "execution_count": 99,
     "metadata": {},
     "output_type": "execute_result"
    }
   ],
   "source": [
    "xtrain.head()"
   ]
  },
  {
   "cell_type": "markdown",
   "id": "36a16863",
   "metadata": {},
   "source": [
    "# Generalized Additive Models (GAM)"
   ]
  },
  {
   "cell_type": "code",
   "execution_count": 100,
   "id": "8cf23de0",
   "metadata": {},
   "outputs": [
    {
     "name": "stdout",
     "output_type": "stream",
     "text": [
      "Root Mean Squared Error (RMSE) on Test Set: 70.52359330649847\n",
      "R2 score on Test Set: 0.995634988304903\n",
      "Mean Squared Error (MSE): 4973.577212860396\n",
      "Mean Absolute Error (MAE): 49.21877893164924\n",
      "Mean Absolute Percentage Error (MAPE) on Test Set: 0.013068231709690882\n"
     ]
    }
   ],
   "source": [
    "from pygam import LinearGAM, s, f\n",
    "model1 = LinearGAM(s(0) + s(1) + s(2)).fit(xtrain, ytrain)\n",
    "predictions = model1.predict(xtest)\n",
    "\n",
    "# Evaluating the model performance\n",
    "rmse = np.sqrt(mean_squared_error(ytest, predictions))\n",
    "print(f\"Root Mean Squared Error (RMSE) on Test Set: {rmse}\")\n",
    "\n",
    "\n",
    "acc = r2_score(ytest, predictions)\n",
    "print(f\"R2 score on Test Set: {acc}\")\n",
    "mse = mean_squared_error(ytest, predictions)\n",
    "print(\"Mean Squared Error (MSE):\", mse)\n",
    "# Mean Absolute Error (MAE)\n",
    "mae = mean_absolute_error(ytest, predictions)\n",
    "print(\"Mean Absolute Error (MAE):\", mae)\n",
    "# Calculate Mean Absolute Percentage Error (MAPE)\n",
    "mape = mean_absolute_percentage_error(ytest, predictions)\n",
    "\n",
    "print(f\"Mean Absolute Percentage Error (MAPE) on Test Set: {mape}\")"
   ]
  },
  {
   "cell_type": "markdown",
   "id": "3123e1f5",
   "metadata": {},
   "source": [
    "# Least Angle Regression (LARS)"
   ]
  },
  {
   "cell_type": "code",
   "execution_count": 101,
   "id": "d49b8173",
   "metadata": {},
   "outputs": [
    {
     "name": "stdout",
     "output_type": "stream",
     "text": [
      "Root Mean Squared Error (RMSE) on Test Set: 70.49540434440546\n",
      "R2 score on Test Set: 0.9956384770822688\n",
      "Mean Squared Error (MSE): 4969.60203368122\n",
      "Mean Absolute Error (MAE): 49.19331594696621\n",
      "Mean Absolute Percentage Error (MAPE) on Test Set: 0.013062471749878056\n"
     ]
    }
   ],
   "source": [
    "from sklearn.linear_model import Lars\n",
    "model2 = Lars().fit(xtrain, ytrain)\n",
    "predictions = model2.predict(xtest)\n",
    "\n",
    "# Evaluating the model performance\n",
    "rmse = np.sqrt(mean_squared_error(ytest, predictions))\n",
    "print(f\"Root Mean Squared Error (RMSE) on Test Set: {rmse}\")\n",
    "\n",
    "\n",
    "acc = r2_score(ytest, predictions)\n",
    "print(f\"R2 score on Test Set: {acc}\")\n",
    "mse = mean_squared_error(ytest, predictions)\n",
    "print(\"Mean Squared Error (MSE):\", mse)\n",
    "# Mean Absolute Error (MAE)\n",
    "mae = mean_absolute_error(ytest, predictions)\n",
    "print(\"Mean Absolute Error (MAE):\", mae)\n",
    "# Calculate Mean Absolute Percentage Error (MAPE)\n",
    "mape = mean_absolute_percentage_error(ytest, predictions)\n",
    "\n",
    "print(f\"Mean Absolute Percentage Error (MAPE) on Test Set: {mape}\")\n"
   ]
  },
  {
   "cell_type": "markdown",
   "id": "6ebcf236",
   "metadata": {},
   "source": [
    "# HuberRegressor"
   ]
  },
  {
   "cell_type": "code",
   "execution_count": 102,
   "id": "4f0ceaf5",
   "metadata": {},
   "outputs": [
    {
     "name": "stdout",
     "output_type": "stream",
     "text": [
      "Root Mean Squared Error (RMSE) on Test Set: 227.75973243471574\n",
      "R2 score on Test Set: 0.9544728530796646\n",
      "Mean Squared Error (MSE): 51874.495718733306\n",
      "Mean Absolute Error (MAE): 178.39802849230406\n",
      "Mean Absolute Percentage Error (MAPE) on Test Set: 0.044674734237827654\n"
     ]
    }
   ],
   "source": [
    "from sklearn.linear_model import HuberRegressor\n",
    "model3 = HuberRegressor().fit(xtrain, ytrain)\n",
    "predictions = model3.predict(xtest)\n",
    "\n",
    "# Evaluating the model performance\n",
    "rmse = np.sqrt(mean_squared_error(ytest, predictions))\n",
    "print(f\"Root Mean Squared Error (RMSE) on Test Set: {rmse}\")\n",
    "\n",
    "\n",
    "acc = r2_score(ytest, predictions)\n",
    "print(f\"R2 score on Test Set: {acc}\")\n",
    "mse = mean_squared_error(ytest, predictions)\n",
    "print(\"Mean Squared Error (MSE):\", mse)\n",
    "# Mean Absolute Error (MAE)\n",
    "mae = mean_absolute_error(ytest, predictions)\n",
    "print(\"Mean Absolute Error (MAE):\", mae)\n",
    "# Calculate Mean Absolute Percentage Error (MAPE)\n",
    "mape = mean_absolute_percentage_error(ytest, predictions)\n",
    "\n",
    "print(f\"Mean Absolute Percentage Error (MAPE) on Test Set: {mape}\")"
   ]
  },
  {
   "cell_type": "markdown",
   "id": "7b27de3e",
   "metadata": {},
   "source": [
    "# RANSACRegressor"
   ]
  },
  {
   "cell_type": "code",
   "execution_count": 103,
   "id": "5e3300ea",
   "metadata": {},
   "outputs": [
    {
     "name": "stdout",
     "output_type": "stream",
     "text": [
      "Root Mean Squared Error (RMSE) on Test Set: 70.49540434440546\n",
      "R2 score on Test Set: 0.9956384770822688\n",
      "Mean Squared Error (MSE): 4969.602033681219\n",
      "Mean Absolute Error (MAE): 49.19331594696563\n",
      "Mean Absolute Percentage Error (MAPE) on Test Set: 0.01306247174987825\n"
     ]
    }
   ],
   "source": [
    "from sklearn.linear_model import RANSACRegressor\n",
    "\n",
    "model4 = RANSACRegressor().fit(xtrain, ytrain)\n",
    "predictions = model4.predict(xtest)\n",
    "\n",
    "# Evaluating the model performance\n",
    "rmse = np.sqrt(mean_squared_error(ytest, predictions))\n",
    "print(f\"Root Mean Squared Error (RMSE) on Test Set: {rmse}\")\n",
    "\n",
    "\n",
    "acc = r2_score(ytest, predictions)\n",
    "print(f\"R2 score on Test Set: {acc}\")\n",
    "mse = mean_squared_error(ytest, predictions)\n",
    "print(\"Mean Squared Error (MSE):\", mse)\n",
    "# Mean Absolute Error (MAE)\n",
    "mae = mean_absolute_error(ytest, predictions)\n",
    "print(\"Mean Absolute Error (MAE):\", mae)\n",
    "# Calculate Mean Absolute Percentage Error (MAPE)\n",
    "mape = mean_absolute_percentage_error(ytest, predictions)\n",
    "\n",
    "print(f\"Mean Absolute Percentage Error (MAPE) on Test Set: {mape}\")"
   ]
  },
  {
   "cell_type": "markdown",
   "id": "aee65080",
   "metadata": {},
   "source": [
    "# XGBRegressor"
   ]
  },
  {
   "cell_type": "code",
   "execution_count": 104,
   "id": "8082d139",
   "metadata": {},
   "outputs": [
    {
     "name": "stdout",
     "output_type": "stream",
     "text": [
      "Root Mean Squared Error (RMSE) on Test Set: 10.988252932449878\n",
      "R2 score on Test Set: 0.9998940322184667\n",
      "Mean Squared Error (MSE): 120.74170250749334\n",
      "Mean Absolute Error (MAE): 8.053999900502399\n",
      "Mean Absolute Percentage Error (MAPE) on Test Set: 0.001979336693805339\n"
     ]
    }
   ],
   "source": [
    "from xgboost import XGBRegressor\n",
    "model5 = XGBRegressor().fit(xtrain, ytrain)\n",
    "predictions = model5.predict(xtest)\n",
    "\n",
    "# Evaluating the model performance\n",
    "rmse = np.sqrt(mean_squared_error(ytest, predictions))\n",
    "print(f\"Root Mean Squared Error (RMSE) on Test Set: {rmse}\")\n",
    "\n",
    "\n",
    "acc = r2_score(ytest, predictions)\n",
    "print(f\"R2 score on Test Set: {acc}\")\n",
    "mse = mean_squared_error(ytest, predictions)\n",
    "print(\"Mean Squared Error (MSE):\", mse)\n",
    "# Mean Absolute Error (MAE)\n",
    "mae = mean_absolute_error(ytest, predictions)\n",
    "print(\"Mean Absolute Error (MAE):\", mae)\n",
    "# Calculate Mean Absolute Percentage Error (MAPE)\n",
    "mape = mean_absolute_percentage_error(ytest, predictions)\n",
    "\n",
    "print(f\"Mean Absolute Percentage Error (MAPE) on Test Set: {mape}\")"
   ]
  },
  {
   "cell_type": "markdown",
   "id": "33836c61",
   "metadata": {},
   "source": [
    "# PLSRegression"
   ]
  },
  {
   "cell_type": "code",
   "execution_count": 105,
   "id": "2b108980",
   "metadata": {},
   "outputs": [
    {
     "name": "stdout",
     "output_type": "stream",
     "text": [
      "Root Mean Squared Error (RMSE) on Test Set: 198.61239160613687\n",
      "R2 score on Test Set: 0.9653798273696766\n",
      "Mean Squared Error (MSE): 39446.882099509465\n",
      "Mean Absolute Error (MAE): 159.7553057187308\n",
      "Mean Absolute Percentage Error (MAPE) on Test Set: 0.04154965147808493\n"
     ]
    }
   ],
   "source": [
    "from sklearn.cross_decomposition import PLSRegression\n",
    "model6 = PLSRegression(n_components=2).fit(xtrain, ytrain)\n",
    "predictions = model6.predict(xtest)\n",
    "\n",
    "# Evaluating the model performance\n",
    "rmse = np.sqrt(mean_squared_error(ytest, predictions))\n",
    "print(f\"Root Mean Squared Error (RMSE) on Test Set: {rmse}\")\n",
    "\n",
    "\n",
    "acc = r2_score(ytest, predictions)\n",
    "print(f\"R2 score on Test Set: {acc}\")\n",
    "mse = mean_squared_error(ytest, predictions)\n",
    "print(\"Mean Squared Error (MSE):\", mse)\n",
    "# Mean Absolute Error (MAE)\n",
    "mae = mean_absolute_error(ytest, predictions)\n",
    "print(\"Mean Absolute Error (MAE):\", mae)\n",
    "# Calculate Mean Absolute Percentage Error (MAPE)\n",
    "mape = mean_absolute_percentage_error(ytest, predictions)\n",
    "\n",
    "print(f\"Mean Absolute Percentage Error (MAPE) on Test Set: {mape}\")"
   ]
  },
  {
   "cell_type": "markdown",
   "id": "1a40e457",
   "metadata": {},
   "source": [
    "# ExtraTreesRegressor"
   ]
  },
  {
   "cell_type": "code",
   "execution_count": 106,
   "id": "c0f8a7e4",
   "metadata": {},
   "outputs": [
    {
     "name": "stdout",
     "output_type": "stream",
     "text": [
      "Root Mean Squared Error (RMSE) on Test Set: 3.731282808094237\n",
      "R2 score on Test Set: 0.9999877810783148\n",
      "Mean Squared Error (MSE): 13.922471393979617\n",
      "Mean Absolute Error (MAE): 1.2873743521893215\n",
      "Mean Absolute Percentage Error (MAPE) on Test Set: 0.0003475945299691961\n"
     ]
    }
   ],
   "source": [
    "from sklearn.ensemble import ExtraTreesRegressor\n",
    "model7 = ExtraTreesRegressor(n_estimators=100, random_state=42)\n",
    "model7.fit(xtrain, ytrain)\n",
    "predictions = model7.predict(xtest)\n",
    "\n",
    "# Evaluating the model performance\n",
    "rmse = np.sqrt(mean_squared_error(ytest, predictions))\n",
    "print(f\"Root Mean Squared Error (RMSE) on Test Set: {rmse}\")\n",
    "\n",
    "\n",
    "acc = r2_score(ytest, predictions)\n",
    "print(f\"R2 score on Test Set: {acc}\")\n",
    "mse = mean_squared_error(ytest, predictions)\n",
    "print(\"Mean Squared Error (MSE):\", mse)\n",
    "# Mean Absolute Error (MAE)\n",
    "mae = mean_absolute_error(ytest, predictions)\n",
    "print(\"Mean Absolute Error (MAE):\", mae)\n",
    "# Calculate Mean Absolute Percentage Error (MAPE)\n",
    "mape = mean_absolute_percentage_error(ytest, predictions)\n",
    "\n",
    "print(f\"Mean Absolute Percentage Error (MAPE) on Test Set: {mape}\")"
   ]
  },
  {
   "cell_type": "markdown",
   "id": "d7527a19",
   "metadata": {},
   "source": [
    "# lightgbm"
   ]
  },
  {
   "cell_type": "code",
   "execution_count": 107,
   "id": "746981ba",
   "metadata": {},
   "outputs": [
    {
     "name": "stdout",
     "output_type": "stream",
     "text": [
      "[LightGBM] [Info] Auto-choosing col-wise multi-threading, the overhead of testing was 0.034920 seconds.\n",
      "You can set `force_col_wise=true` to remove the overhead.\n",
      "[LightGBM] [Info] Total Bins 322\n",
      "[LightGBM] [Info] Number of data points in the train set: 36276, number of used features: 7\n",
      "[LightGBM] [Info] Start training from score 4311.513883\n",
      "Root Mean Squared Error (RMSE) on Test Set: 16.114018397731932\n",
      "R2 score on Test Set: 0.9997721105305286\n",
      "Mean Squared Error (MSE): 259.66158892244323\n",
      "Mean Absolute Error (MAE): 9.766563400028103\n",
      "Mean Absolute Percentage Error (MAPE) on Test Set: 0.002691349911162166\n"
     ]
    }
   ],
   "source": [
    "import lightgbm as lgb\n",
    "model8 = lgb.LGBMRegressor(random_state=42)  \n",
    "model8.fit(xtrain, ytrain)\n",
    "predictions = model8.predict(xtest)\n",
    "\n",
    "# Evaluating the model performance\n",
    "rmse = np.sqrt(mean_squared_error(ytest, predictions))\n",
    "print(f\"Root Mean Squared Error (RMSE) on Test Set: {rmse}\")\n",
    "\n",
    "\n",
    "acc = r2_score(ytest, predictions)\n",
    "print(f\"R2 score on Test Set: {acc}\")\n",
    "mse = mean_squared_error(ytest, predictions)\n",
    "print(\"Mean Squared Error (MSE):\", mse)\n",
    "# Mean Absolute Error (MAE)\n",
    "mae = mean_absolute_error(ytest, predictions)\n",
    "print(\"Mean Absolute Error (MAE):\", mae)\n",
    "# Calculate Mean Absolute Percentage Error (MAPE)\n",
    "mape = mean_absolute_percentage_error(ytest, predictions)\n",
    "\n",
    "print(f\"Mean Absolute Percentage Error (MAPE) on Test Set: {mape}\")"
   ]
  },
  {
   "cell_type": "code",
   "execution_count": 108,
   "id": "66a85069",
   "metadata": {},
   "outputs": [],
   "source": [
    "allacc = pd.DataFrame(columns=[\"Accuracy\"], index=[\"GAM\", \"LARS\",\n",
    "                                                  \"HuberRegressor\",\"RANSACRegressor\",\"XGBRegressor\",\"PLSRegression\",\"ExtraTreesRegressor\",\"lightgbm\"])\n",
    "models = {'GAM' : model1, 'LARS' : model2, 'HuberRegressor' : model3, 'RANSACRegressor' : model4, 'XGBRegressor': model5,\n",
    "         'PLSRegression': model6, 'ExtraTreesRegressor': model7, 'lightgbm': model8}\n",
    "\n",
    "for name, model in models.items() :\n",
    "  allacc.loc[name, 'Accuracy'] = r2_score(ytest, y_pred = model.predict(xtest))"
   ]
  },
  {
   "cell_type": "code",
   "execution_count": 109,
   "id": "bf878a70",
   "metadata": {},
   "outputs": [
    {
     "data": {
      "text/html": [
       "<div>\n",
       "<style scoped>\n",
       "    .dataframe tbody tr th:only-of-type {\n",
       "        vertical-align: middle;\n",
       "    }\n",
       "\n",
       "    .dataframe tbody tr th {\n",
       "        vertical-align: top;\n",
       "    }\n",
       "\n",
       "    .dataframe thead th {\n",
       "        text-align: right;\n",
       "    }\n",
       "</style>\n",
       "<table border=\"1\" class=\"dataframe\">\n",
       "  <thead>\n",
       "    <tr style=\"text-align: right;\">\n",
       "      <th></th>\n",
       "      <th>Accuracy</th>\n",
       "    </tr>\n",
       "  </thead>\n",
       "  <tbody>\n",
       "    <tr>\n",
       "      <th>GAM</th>\n",
       "      <td>0.995635</td>\n",
       "    </tr>\n",
       "    <tr>\n",
       "      <th>LARS</th>\n",
       "      <td>0.995638</td>\n",
       "    </tr>\n",
       "    <tr>\n",
       "      <th>HuberRegressor</th>\n",
       "      <td>0.954473</td>\n",
       "    </tr>\n",
       "    <tr>\n",
       "      <th>RANSACRegressor</th>\n",
       "      <td>0.995638</td>\n",
       "    </tr>\n",
       "    <tr>\n",
       "      <th>XGBRegressor</th>\n",
       "      <td>0.999894</td>\n",
       "    </tr>\n",
       "    <tr>\n",
       "      <th>PLSRegression</th>\n",
       "      <td>0.96538</td>\n",
       "    </tr>\n",
       "    <tr>\n",
       "      <th>ExtraTreesRegressor</th>\n",
       "      <td>0.999988</td>\n",
       "    </tr>\n",
       "    <tr>\n",
       "      <th>lightgbm</th>\n",
       "      <td>0.999772</td>\n",
       "    </tr>\n",
       "  </tbody>\n",
       "</table>\n",
       "</div>"
      ],
      "text/plain": [
       "                     Accuracy\n",
       "GAM                  0.995635\n",
       "LARS                 0.995638\n",
       "HuberRegressor       0.954473\n",
       "RANSACRegressor      0.995638\n",
       "XGBRegressor         0.999894\n",
       "PLSRegression         0.96538\n",
       "ExtraTreesRegressor  0.999988\n",
       "lightgbm             0.999772"
      ]
     },
     "execution_count": 109,
     "metadata": {},
     "output_type": "execute_result"
    }
   ],
   "source": [
    "allacc"
   ]
  },
  {
   "cell_type": "code",
   "execution_count": 110,
   "id": "bb18a46c",
   "metadata": {},
   "outputs": [
    {
     "data": {
      "text/plain": [
       "<AxesSubplot:title={'center':'Final models accuracy'}>"
      ]
     },
     "execution_count": 110,
     "metadata": {},
     "output_type": "execute_result"
    },
    {
     "data": {
      "image/png": "[encoded data removed]",
      "text/plain": [
       "<Figure size 864x504 with 1 Axes>"
      ]
     },
     "metadata": {
      "needs_background": "light"
     },
     "output_type": "display_data"
    }
   ],
   "source": [
    "allacc.unstack().plot(kind = 'bar', stacked = True, figsize = (12, 7), title = 'Final models accuracy')"
   ]
  },
  {
   "cell_type": "code",
   "execution_count": 111,
   "id": "ca653187",
   "metadata": {},
   "outputs": [
    {
     "data": {
      "image/png": "[encoded data removed]",
      "text/plain": [
       "<Figure size 864x504 with 1 Axes>"
      ]
     },
     "metadata": {
      "needs_background": "light"
     },
     "output_type": "display_data"
    }
   ],
   "source": [
    "import pandas as pd\n",
    "import matplotlib.pyplot as plt\n",
    "from sklearn.metrics import r2_score\n",
    "\n",
    "# Assuming model1, model2, ..., model8 are defined and trained somewhere earlier in your code\n",
    "# Assuming ytest and xtest are defined and contain your test data\n",
    "\n",
    "# Create the DataFrame to hold R² scores\n",
    "allacc = pd.DataFrame(columns=[\"R2 Score\"], index=[\"GAM\", \"LARS\", \"HR\",\n",
    "                                                   \"RANS\", \"XGB\",\n",
    "                                                   \"PLS\", \"ET\",\n",
    "                                                   \"LGB\"])\n",
    "\n",
    "# Dictionary of models\n",
    "models = {'GAM': model1, 'LARS': model2, 'HR': model3, 'RANS': model4,\n",
    "          'XGB': model5, 'PLS': model6, 'ET': model7,\n",
    "          'LGB': model8}\n",
    "\n",
    "# Calculate the R² score for each model and store it in the DataFrame\n",
    "for name, model in models.items():\n",
    "    allacc.loc[name, 'R2 Score'] = r2_score(ytest, model.predict(xtest))\n",
    "\n",
    "# Plot the bar plot with only model names on the x-axis\n",
    "allacc.plot(kind='bar', legend=False, figsize=(12, 7), title='Final Models Accuracy')\n",
    "\n",
    "# Set the x-axis label to 'Model'\n",
    "plt.xlabel(\"Model's Name\")\n",
    "\n",
    "# Set the y-axis label to 'R² Score'\n",
    "plt.ylabel('R² Score')\n",
    "\n",
    "# Show the plot\n",
    "plt.show()\n"
   ]
  },
  {
   "cell_type": "markdown",
   "id": "0a9a0975",
   "metadata": {},
   "source": [
    "# Gradio"
   ]
  },
  {
   "cell_type": "code",
   "execution_count": 17,
   "id": "37f70f2c",
   "metadata": {},
   "outputs": [
    {
     "data": {
      "text/html": [
       "<div>\n",
       "<style scoped>\n",
       "    .dataframe tbody tr th:only-of-type {\n",
       "        vertical-align: middle;\n",
       "    }\n",
       "\n",
       "    .dataframe tbody tr th {\n",
       "        vertical-align: top;\n",
       "    }\n",
       "\n",
       "    .dataframe thead th {\n",
       "        text-align: right;\n",
       "    }\n",
       "</style>\n",
       "<table border=\"1\" class=\"dataframe\">\n",
       "  <thead>\n",
       "    <tr style=\"text-align: right;\">\n",
       "      <th></th>\n",
       "      <th>TariffRate</th>\n",
       "      <th>MonthlyHours</th>\n",
       "      <th>Refrigerator</th>\n",
       "      <th>AirConditioner</th>\n",
       "      <th>Television</th>\n",
       "      <th>Monitor</th>\n",
       "      <th>Month</th>\n",
       "    </tr>\n",
       "  </thead>\n",
       "  <tbody>\n",
       "    <tr>\n",
       "      <th>19060</th>\n",
       "      <td>8.7</td>\n",
       "      <td>581</td>\n",
       "      <td>23.0</td>\n",
       "      <td>1.0</td>\n",
       "      <td>11.0</td>\n",
       "      <td>12.0</td>\n",
       "      <td>4</td>\n",
       "    </tr>\n",
       "    <tr>\n",
       "      <th>17874</th>\n",
       "      <td>8.9</td>\n",
       "      <td>428</td>\n",
       "      <td>22.0</td>\n",
       "      <td>2.0</td>\n",
       "      <td>11.0</td>\n",
       "      <td>1.0</td>\n",
       "      <td>9</td>\n",
       "    </tr>\n",
       "    <tr>\n",
       "      <th>44423</th>\n",
       "      <td>8.3</td>\n",
       "      <td>391</td>\n",
       "      <td>17.0</td>\n",
       "      <td>1.0</td>\n",
       "      <td>21.0</td>\n",
       "      <td>1.0</td>\n",
       "      <td>2</td>\n",
       "    </tr>\n",
       "    <tr>\n",
       "      <th>36865</th>\n",
       "      <td>8.4</td>\n",
       "      <td>682</td>\n",
       "      <td>22.0</td>\n",
       "      <td>2.0</td>\n",
       "      <td>12.0</td>\n",
       "      <td>12.0</td>\n",
       "      <td>1</td>\n",
       "    </tr>\n",
       "    <tr>\n",
       "      <th>36537</th>\n",
       "      <td>8.5</td>\n",
       "      <td>488</td>\n",
       "      <td>22.0</td>\n",
       "      <td>3.0</td>\n",
       "      <td>12.0</td>\n",
       "      <td>1.0</td>\n",
       "      <td>10</td>\n",
       "    </tr>\n",
       "  </tbody>\n",
       "</table>\n",
       "</div>"
      ],
      "text/plain": [
       "       TariffRate  MonthlyHours  Refrigerator  AirConditioner  Television  \\\n",
       "19060         8.7           581          23.0             1.0        11.0   \n",
       "17874         8.9           428          22.0             2.0        11.0   \n",
       "44423         8.3           391          17.0             1.0        21.0   \n",
       "36865         8.4           682          22.0             2.0        12.0   \n",
       "36537         8.5           488          22.0             3.0        12.0   \n",
       "\n",
       "       Monitor  Month  \n",
       "19060     12.0      4  \n",
       "17874      1.0      9  \n",
       "44423      1.0      2  \n",
       "36865     12.0      1  \n",
       "36537      1.0     10  "
      ]
     },
     "execution_count": 17,
     "metadata": {},
     "output_type": "execute_result"
    }
   ],
   "source": [
    "xtest.head()"
   ]
  },
  {
   "cell_type": "code",
   "execution_count": 18,
   "id": "87344b25",
   "metadata": {},
   "outputs": [
    {
     "data": {
      "text/plain": [
       "Index(['TariffRate', 'MonthlyHours', 'Refrigerator', 'AirConditioner',\n",
       "       'Television', 'Monitor', 'Month'],\n",
       "      dtype='object')"
      ]
     },
     "execution_count": 18,
     "metadata": {},
     "output_type": "execute_result"
    }
   ],
   "source": [
    "xtest.columns"
   ]
  },
  {
   "cell_type": "code",
   "execution_count": 29,
   "id": "bf7f679e",
   "metadata": {},
   "outputs": [
    {
     "data": {
      "text/html": [
       "<div>\n",
       "<style scoped>\n",
       "    .dataframe tbody tr th:only-of-type {\n",
       "        vertical-align: middle;\n",
       "    }\n",
       "\n",
       "    .dataframe tbody tr th {\n",
       "        vertical-align: top;\n",
       "    }\n",
       "\n",
       "    .dataframe thead th {\n",
       "        text-align: right;\n",
       "    }\n",
       "</style>\n",
       "<table border=\"1\" class=\"dataframe\">\n",
       "  <thead>\n",
       "    <tr style=\"text-align: right;\">\n",
       "      <th></th>\n",
       "      <th>TariffRate</th>\n",
       "      <th>MonthlyHours</th>\n",
       "      <th>Refrigerator</th>\n",
       "      <th>AirConditioner</th>\n",
       "      <th>Television</th>\n",
       "      <th>Monitor</th>\n",
       "      <th>Month</th>\n",
       "    </tr>\n",
       "  </thead>\n",
       "  <tbody>\n",
       "    <tr>\n",
       "      <th>19060</th>\n",
       "      <td>8.7</td>\n",
       "      <td>581</td>\n",
       "      <td>23.0</td>\n",
       "      <td>1.0</td>\n",
       "      <td>11.0</td>\n",
       "      <td>12.0</td>\n",
       "      <td>4</td>\n",
       "    </tr>\n",
       "    <tr>\n",
       "      <th>17874</th>\n",
       "      <td>8.9</td>\n",
       "      <td>428</td>\n",
       "      <td>22.0</td>\n",
       "      <td>2.0</td>\n",
       "      <td>11.0</td>\n",
       "      <td>1.0</td>\n",
       "      <td>9</td>\n",
       "    </tr>\n",
       "    <tr>\n",
       "      <th>44423</th>\n",
       "      <td>8.3</td>\n",
       "      <td>391</td>\n",
       "      <td>17.0</td>\n",
       "      <td>1.0</td>\n",
       "      <td>21.0</td>\n",
       "      <td>1.0</td>\n",
       "      <td>2</td>\n",
       "    </tr>\n",
       "    <tr>\n",
       "      <th>36865</th>\n",
       "      <td>8.4</td>\n",
       "      <td>682</td>\n",
       "      <td>22.0</td>\n",
       "      <td>2.0</td>\n",
       "      <td>12.0</td>\n",
       "      <td>12.0</td>\n",
       "      <td>1</td>\n",
       "    </tr>\n",
       "    <tr>\n",
       "      <th>36537</th>\n",
       "      <td>8.5</td>\n",
       "      <td>488</td>\n",
       "      <td>22.0</td>\n",
       "      <td>3.0</td>\n",
       "      <td>12.0</td>\n",
       "      <td>1.0</td>\n",
       "      <td>10</td>\n",
       "    </tr>\n",
       "  </tbody>\n",
       "</table>\n",
       "</div>"
      ],
      "text/plain": [
       "       TariffRate  MonthlyHours  Refrigerator  AirConditioner  Television  \\\n",
       "19060         8.7           581          23.0             1.0        11.0   \n",
       "17874         8.9           428          22.0             2.0        11.0   \n",
       "44423         8.3           391          17.0             1.0        21.0   \n",
       "36865         8.4           682          22.0             2.0        12.0   \n",
       "36537         8.5           488          22.0             3.0        12.0   \n",
       "\n",
       "       Monitor  Month  \n",
       "19060     12.0      4  \n",
       "17874      1.0      9  \n",
       "44423      1.0      2  \n",
       "36865     12.0      1  \n",
       "36537      1.0     10  "
      ]
     },
     "execution_count": 29,
     "metadata": {},
     "output_type": "execute_result"
    }
   ],
   "source": [
    "xtest.head()"
   ]
  },
  {
   "cell_type": "code",
   "execution_count": 30,
   "id": "3a7dc8b8",
   "metadata": {},
   "outputs": [
    {
     "data": {
      "text/html": [
       "<div>\n",
       "<style scoped>\n",
       "    .dataframe tbody tr th:only-of-type {\n",
       "        vertical-align: middle;\n",
       "    }\n",
       "\n",
       "    .dataframe tbody tr th {\n",
       "        vertical-align: top;\n",
       "    }\n",
       "\n",
       "    .dataframe thead th {\n",
       "        text-align: right;\n",
       "    }\n",
       "</style>\n",
       "<table border=\"1\" class=\"dataframe\">\n",
       "  <thead>\n",
       "    <tr style=\"text-align: right;\">\n",
       "      <th></th>\n",
       "      <th>TariffRate</th>\n",
       "      <th>MonthlyHours</th>\n",
       "      <th>Refrigerator</th>\n",
       "      <th>AirConditioner</th>\n",
       "      <th>Television</th>\n",
       "      <th>Monitor</th>\n",
       "      <th>Month</th>\n",
       "    </tr>\n",
       "  </thead>\n",
       "  <tbody>\n",
       "    <tr>\n",
       "      <th>12362</th>\n",
       "      <td>8.3</td>\n",
       "      <td>512</td>\n",
       "      <td>22.0</td>\n",
       "      <td>1.0</td>\n",
       "      <td>12.0</td>\n",
       "      <td>1.0</td>\n",
       "      <td>9</td>\n",
       "    </tr>\n",
       "    <tr>\n",
       "      <th>26357</th>\n",
       "      <td>8.2</td>\n",
       "      <td>577</td>\n",
       "      <td>23.0</td>\n",
       "      <td>3.0</td>\n",
       "      <td>11.0</td>\n",
       "      <td>12.0</td>\n",
       "      <td>2</td>\n",
       "    </tr>\n",
       "    <tr>\n",
       "      <th>22319</th>\n",
       "      <td>9.1</td>\n",
       "      <td>514</td>\n",
       "      <td>22.0</td>\n",
       "      <td>1.0</td>\n",
       "      <td>12.0</td>\n",
       "      <td>12.0</td>\n",
       "      <td>1</td>\n",
       "    </tr>\n",
       "    <tr>\n",
       "      <th>32505</th>\n",
       "      <td>7.7</td>\n",
       "      <td>565</td>\n",
       "      <td>22.0</td>\n",
       "      <td>1.0</td>\n",
       "      <td>3.0</td>\n",
       "      <td>1.0</td>\n",
       "      <td>10</td>\n",
       "    </tr>\n",
       "    <tr>\n",
       "      <th>43651</th>\n",
       "      <td>7.4</td>\n",
       "      <td>429</td>\n",
       "      <td>20.0</td>\n",
       "      <td>2.0</td>\n",
       "      <td>20.0</td>\n",
       "      <td>7.0</td>\n",
       "      <td>4</td>\n",
       "    </tr>\n",
       "  </tbody>\n",
       "</table>\n",
       "</div>"
      ],
      "text/plain": [
       "       TariffRate  MonthlyHours  Refrigerator  AirConditioner  Television  \\\n",
       "12362         8.3           512          22.0             1.0        12.0   \n",
       "26357         8.2           577          23.0             3.0        11.0   \n",
       "22319         9.1           514          22.0             1.0        12.0   \n",
       "32505         7.7           565          22.0             1.0         3.0   \n",
       "43651         7.4           429          20.0             2.0        20.0   \n",
       "\n",
       "       Monitor  Month  \n",
       "12362      1.0      9  \n",
       "26357     12.0      2  \n",
       "22319     12.0      1  \n",
       "32505      1.0     10  \n",
       "43651      7.0      4  "
      ]
     },
     "execution_count": 30,
     "metadata": {},
     "output_type": "execute_result"
    }
   ],
   "source": [
    "xtrain.head()"
   ]
  },
  {
   "cell_type": "code",
   "execution_count": 19,
   "id": "5d9ce426",
   "metadata": {},
   "outputs": [
    {
     "data": {
      "text/html": [
       "<div>\n",
       "<style scoped>\n",
       "    .dataframe tbody tr th:only-of-type {\n",
       "        vertical-align: middle;\n",
       "    }\n",
       "\n",
       "    .dataframe tbody tr th {\n",
       "        vertical-align: top;\n",
       "    }\n",
       "\n",
       "    .dataframe thead th {\n",
       "        text-align: right;\n",
       "    }\n",
       "</style>\n",
       "<table border=\"1\" class=\"dataframe\">\n",
       "  <thead>\n",
       "    <tr style=\"text-align: right;\">\n",
       "      <th></th>\n",
       "      <th>ElectricityBill</th>\n",
       "    </tr>\n",
       "  </thead>\n",
       "  <tbody>\n",
       "    <tr>\n",
       "      <th>0</th>\n",
       "      <td>3225.6</td>\n",
       "    </tr>\n",
       "    <tr>\n",
       "      <th>1</th>\n",
       "      <td>3806.4</td>\n",
       "    </tr>\n",
       "    <tr>\n",
       "      <th>2</th>\n",
       "      <td>3203.2</td>\n",
       "    </tr>\n",
       "    <tr>\n",
       "      <th>3</th>\n",
       "      <td>4370.0</td>\n",
       "    </tr>\n",
       "    <tr>\n",
       "      <th>4</th>\n",
       "      <td>4204.4</td>\n",
       "    </tr>\n",
       "  </tbody>\n",
       "</table>\n",
       "</div>"
      ],
      "text/plain": [
       "   ElectricityBill\n",
       "0           3225.6\n",
       "1           3806.4\n",
       "2           3203.2\n",
       "3           4370.0\n",
       "4           4204.4"
      ]
     },
     "execution_count": 19,
     "metadata": {},
     "output_type": "execute_result"
    }
   ],
   "source": [
    "y.head()"
   ]
  },
  {
   "cell_type": "code",
   "execution_count": 43,
   "id": "59f78647",
   "metadata": {},
   "outputs": [
    {
     "data": {
      "text/plain": [
       "Index(['TariffRate', 'MonthlyHours', 'Refrigerator', 'AirConditioner',\n",
       "       'Television', 'Monitor', 'Month'],\n",
       "      dtype='object')"
      ]
     },
     "execution_count": 43,
     "metadata": {},
     "output_type": "execute_result"
    }
   ],
   "source": [
    "xtrain.columns"
   ]
  },
  {
   "cell_type": "code",
   "execution_count": 59,
   "id": "3d704e19",
   "metadata": {},
   "outputs": [],
   "source": [
    "import gradio as gr\n",
    "def heart(TariffRate, MonthlyHours, Refrigerator, AirConditioner,Television, Monitor, Month):\n",
    "    \n",
    "    input_data = np.array([[TariffRate, MonthlyHours, Refrigerator, AirConditioner,Television, Monitor, Month]])\n",
    "    ElectricityBill = model5.predict(input_data)\n",
    "    return ElectricityBill"
   ]
  },
  {
   "cell_type": "code",
   "execution_count": 60,
   "id": "55860f61",
   "metadata": {},
   "outputs": [
    {
     "data": {
      "text/plain": [
       "array([5056.249], dtype=float32)"
      ]
     },
     "execution_count": 60,
     "metadata": {},
     "output_type": "execute_result"
    }
   ],
   "source": [
    "heart(8.7,581,23,1,11,12,4)"
   ]
  },
  {
   "cell_type": "code",
   "execution_count": 61,
   "id": "148ae725",
   "metadata": {},
   "outputs": [
    {
     "name": "stdout",
     "output_type": "stream",
     "text": [
      "Running on local URL:  http://127.0.0.1:7861\n",
      "\n",
      "To create a public link, set `share=True` in `launch()`.\n"
     ]
    },
    {
     "data": {
      "text/html": [
       "<div><iframe src=\"http://127.0.0.1:7861/\" width=\"100%\" height=\"500\" allow=\"autoplay; camera; microphone; clipboard-read; clipboard-write;\" frameborder=\"0\" allowfullscreen></iframe></div>"
      ],
      "text/plain": [
       "<IPython.core.display.HTML object>"
      ]
     },
     "metadata": {},
     "output_type": "display_data"
    }
   ],
   "source": [
    "interface = gr.Interface(\n",
    "  fn = heart, #function = heart\n",
    "  inputs = ['number','number','number','number','number','number','number'],\n",
    "  outputs = ['number']  \n",
    "\n",
    "\n",
    ").launch(share=False)"
   ]
  },
  {
   "cell_type": "code",
   "execution_count": null,
   "id": "974acd76",
   "metadata": {},
   "outputs": [],
   "source": []
  },
  {
   "cell_type": "code",
   "execution_count": null,
   "id": "85b1a4d2",
   "metadata": {},
   "outputs": [],
   "source": []
  },
  {
   "cell_type": "code",
   "execution_count": null,
   "id": "2e16e756",
   "metadata": {},
   "outputs": [],
   "source": []
  },
  {
   "cell_type": "code",
   "execution_count": null,
   "id": "fca747a9",
   "metadata": {},
   "outputs": [],
   "source": []
  },
  {
   "cell_type": "code",
   "execution_count": null,
   "id": "004450d8",
   "metadata": {},
   "outputs": [],
   "source": []
  },
  {
   "cell_type": "code",
   "execution_count": null,
   "id": "f71ad015",
   "metadata": {},
   "outputs": [],
   "source": []
  }
 ],
 "metadata": {
  "kernelspec": {
   "display_name": "Python 3 (ipykernel)",
   "language": "python",
   "name": "python3"
  },
  "language_info": {
   "codemirror_mode": {
    "name": "ipython",
    "version": 3
   },
   "file_extension": ".py",
   "mimetype": "text/x-python",
   "name": "python",
   "nbconvert_exporter": "python",
   "pygments_lexer": "ipython3",
   "version": "3.10.4"
  }
 },
 "nbformat": 4,
 "nbformat_minor": 5
}
